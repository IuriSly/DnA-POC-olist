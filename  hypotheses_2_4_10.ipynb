{
 "cells": [
  {
   "cell_type": "markdown",
   "metadata": {},
   "source": [
    "# Verificação das hipóteses relacionadas aos feedbacks"
   ]
  },
  {
   "cell_type": "markdown",
   "metadata": {},
   "source": [
    "## Verificação das hipóteses 2, 4 e 10\n",
    "Hipótese 2: Os clientes que cancelaram os pedidos não respondem o questionário de satisfação \\\n",
    "Hipótese 4: Se o pedido atrasar sua nota será menor que três \\\n",
    "Hipótese 10: A taxa de respondidos entre os cancelados é menor que a taxa de respondidos no geral "
   ]
  },
  {
   "cell_type": "markdown",
   "metadata": {},
   "source": [
    "## Definição do datafreme"
   ]
  },
  {
   "cell_type": "code",
   "execution_count": 1,
   "metadata": {
    "scrolled": true
   },
   "outputs": [],
   "source": [
    "from pyspark.sql import SparkSession, functions as F\n",
    "spark = SparkSession.builder.getOrCreate()\n",
    "df_reviews = spark.read \\\n",
    "                 .option('escape', '\\\"') \\\n",
    "                 .csv('./dataset/olist_order_reviews_dataset.csv', header=True, multiLine=True)\n",
    "df_orders = spark.read \\\n",
    "                 .option('escape', '\\\"') \\\n",
    "                 .csv('./dataset/olist_orders_dataset.csv', header=True, multiLine=True)\n",
    "df = df_orders.join(df_reviews, df_orders.order_id == df_reviews.order_id)"
   ]
  },
  {
   "cell_type": "code",
   "execution_count": 2,
   "metadata": {
    "scrolled": true
   },
   "outputs": [
    {
     "name": "stdout",
     "output_type": "stream",
     "text": [
      "root\n",
      " |-- order_id: string (nullable = true)\n",
      " |-- customer_id: string (nullable = true)\n",
      " |-- order_status: string (nullable = true)\n",
      " |-- order_purchase_timestamp: string (nullable = true)\n",
      " |-- order_approved_at: string (nullable = true)\n",
      " |-- order_delivered_carrier_date: string (nullable = true)\n",
      " |-- order_delivered_customer_date: string (nullable = true)\n",
      " |-- order_estimated_delivery_date: string (nullable = true)\n",
      " |-- review_id: string (nullable = true)\n",
      " |-- order_id: string (nullable = true)\n",
      " |-- review_score: string (nullable = true)\n",
      " |-- review_comment_title: string (nullable = true)\n",
      " |-- review_comment_message: string (nullable = true)\n",
      " |-- review_creation_date: string (nullable = true)\n",
      " |-- review_answer_timestamp: string (nullable = true)\n",
      "\n"
     ]
    }
   ],
   "source": [
    "df.printSchema()"
   ]
  },
  {
   "cell_type": "markdown",
   "metadata": {},
   "source": [
    "### Criação dataframe com pedidos cancelados"
   ]
  },
  {
   "cell_type": "code",
   "execution_count": 3,
   "metadata": {},
   "outputs": [],
   "source": [
    "df_canceled = df.filter(F.col('order_status')=='canceled')"
   ]
  },
  {
   "cell_type": "markdown",
   "metadata": {},
   "source": [
    "### Verificação dos valores dos feedbacks dos pedidos cancelados \n",
    "### Verifica a hipótese 2"
   ]
  },
  {
   "cell_type": "code",
   "execution_count": 4,
   "metadata": {},
   "outputs": [
    {
     "name": "stdout",
     "output_type": "stream",
     "text": [
      "+-----------------------------------------------------------------------------------------------------------------------------+\n",
      "|review_comment_message                                                                                                       |\n",
      "+-----------------------------------------------------------------------------------------------------------------------------+\n",
      "|Péssimo                                                                                                                      |\n",
      "|Pedi reembolso e sem resposta até momento                                                                                    |\n",
      "|null                                                                                                                         |\n",
      "|Espero receber esta semana, o que não seria tão extravagante, porém...mais atrazo do que isso me faria desistir do baratheon.|\n",
      "|null                                                                                                                         |\n",
      "+-----------------------------------------------------------------------------------------------------------------------------+\n",
      "only showing top 5 rows\n",
      "\n"
     ]
    }
   ],
   "source": [
    "df_canceled.select('review_comment_message').show(5, truncate=False)"
   ]
  },
  {
   "cell_type": "markdown",
   "metadata": {},
   "source": [
    "### Verificação das notas em pedidos cancelados \n",
    "#### Verifica hipótese 4"
   ]
  },
  {
   "cell_type": "code",
   "execution_count": 5,
   "metadata": {},
   "outputs": [
    {
     "name": "stdout",
     "output_type": "stream",
     "text": [
      "O número de pedidos cancelados com nota >= 3 é de 148 pedidos\n"
     ]
    }
   ],
   "source": [
    "print(\"O número de pedidos cancelados com nota >= 3 é de\" \n",
    "      ,df_canceled.filter(F.col('review_score')>=3).count(),\"pedidos\")"
   ]
  },
  {
   "cell_type": "markdown",
   "metadata": {},
   "source": [
    "### Calculo da taxa de feedbacks respondidos dentre os pedidos cancelados"
   ]
  },
  {
   "cell_type": "code",
   "execution_count": 6,
   "metadata": {},
   "outputs": [
    {
     "name": "stdout",
     "output_type": "stream",
     "text": [
      "Taxa de cancelados respondidos = 67.73\n"
     ]
    }
   ],
   "source": [
    "num_canceled_answered = df_canceled.filter(df_canceled.review_comment_message.isNotNull()).count()\n",
    "num_canceled = df_canceled.count()\n",
    "percent_canceladed_answered = num_canceled_answered / num_canceled * 100\n",
    "print(\"Taxa de cancelados respondidos =\",round(percent_canceladed_answered, 2))"
   ]
  },
  {
   "cell_type": "markdown",
   "metadata": {},
   "source": [
    "### Calculo da taxa de feedbacks respondidos dentre todos os pedidos"
   ]
  },
  {
   "cell_type": "code",
   "execution_count": 7,
   "metadata": {},
   "outputs": [
    {
     "name": "stdout",
     "output_type": "stream",
     "text": [
      "root\n",
      " |-- review_id: string (nullable = true)\n",
      " |-- order_id: string (nullable = true)\n",
      " |-- review_score: string (nullable = true)\n",
      " |-- review_comment_title: string (nullable = true)\n",
      " |-- review_comment_message: string (nullable = true)\n",
      " |-- review_creation_date: string (nullable = true)\n",
      " |-- review_answer_timestamp: string (nullable = true)\n",
      "\n"
     ]
    }
   ],
   "source": [
    "df = df_reviews\n",
    "df.printSchema()"
   ]
  },
  {
   "cell_type": "code",
   "execution_count": 8,
   "metadata": {},
   "outputs": [],
   "source": [
    "df_with_comment = df.filter(df.review_comment_message.isNotNull())"
   ]
  },
  {
   "cell_type": "code",
   "execution_count": 9,
   "metadata": {},
   "outputs": [
    {
     "name": "stdout",
     "output_type": "stream",
     "text": [
      "Taxa de respondidos = 41.75\n"
     ]
    }
   ],
   "source": [
    "percent_answered = df_with_comment.count() / df.count() * 100;\n",
    "print(\"Taxa de respondidos =\",round(percent_answered, 2))"
   ]
  },
  {
   "cell_type": "markdown",
   "metadata": {},
   "source": [
    "## Conclusões"
   ]
  },
  {
   "cell_type": "markdown",
   "metadata": {},
   "source": [
    "### A hipótese 2 é inválida pois as pessoas que cancelaram os pedidos foram capazes de responder o feedback, visto as mensagens de feedback exitentes entre os pedidos cancelados\n",
    "\n",
    "### A hipótese 4 é inválida pois existem pedidos cancelados que possuem nota maior ou igual a 3, são 148 pedidos com essas características\n",
    "\n",
    "### A hipótese 10 é inválida pois a porcentagem de feedbacks respondidos  dentro os pedidos cancelados foi maior que a porcentagem dentre todos os pedidos. A taxa de respondidos dentre os cancelados é de 67.73 % e a taxa de respondidos no total é de 41.75 %"
   ]
  }
 ],
 "metadata": {
  "kernelspec": {
   "display_name": "Python 3",
   "language": "python",
   "name": "python3"
  },
  "language_info": {
   "codemirror_mode": {
    "name": "ipython",
    "version": 3
   },
   "file_extension": ".py",
   "mimetype": "text/x-python",
   "name": "python",
   "nbconvert_exporter": "python",
   "pygments_lexer": "ipython3",
   "version": "3.7.4"
  }
 },
 "nbformat": 4,
 "nbformat_minor": 4
}
