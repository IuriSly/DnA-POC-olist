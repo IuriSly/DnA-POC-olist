{
 "cells": [
  {
   "cell_type": "markdown",
   "metadata": {},
   "source": [
    "# Calculating the distance between the Customer's city and the Seller's city"
   ]
  },
  {
   "cell_type": "code",
   "execution_count": 1,
   "metadata": {},
   "outputs": [],
   "source": [
    "from pyspark.sql import SparkSession, functions as F\n",
    "import math"
   ]
  },
  {
   "cell_type": "code",
   "execution_count": 2,
   "metadata": {},
   "outputs": [],
   "source": [
    "spark = SparkSession.builder.getOrCreate()"
   ]
  },
  {
   "cell_type": "code",
   "execution_count": 3,
   "metadata": {},
   "outputs": [],
   "source": [
    "orders_items_df = spark.read \\\n",
    "                 .option('escape', '\\\"') \\\n",
    "                 .option('quote', '\\\"') \\\n",
    "                 .csv('./dataset/olist_order_items_dataset.csv', header=True, multiLine=True, inferSchema=True)\n",
    "\n",
    "orders_df = spark.read \\\n",
    "                 .option('escape', '\\\"') \\\n",
    "                 .option('quote', '\\\"') \\\n",
    "                 .csv('./dataset/olist_orders_dataset.csv', header=True, multiLine=True, inferSchema=True)\n",
    "\n",
    "customers_df = spark.read \\\n",
    "                  .option('escape', '\\\"') \\\n",
    "                  .option('quote', '\\\"') \\\n",
    "                  .csv('./dataset/olist_customers_dataset.csv', header=True, multiLine=True, inferSchema=True)\n",
    "\n",
    "sellers_df = spark.read \\\n",
    "                  .option('escape', '\\\"') \\\n",
    "                  .option('quote', '\\\"') \\\n",
    "                  .csv('./dataset/olist_sellers_dataset.csv', header=True, multiLine=True, inferSchema=True)\n",
    "\n",
    "geo_df = spark.read \\\n",
    "                  .option('escape', '\\\"') \\\n",
    "                  .option('quote', '\\\"') \\\n",
    "                  .csv('./dataset/olist_geolocation_dataset.csv', header=True, multiLine=True, inferSchema=True)"
   ]
  },
  {
   "cell_type": "markdown",
   "metadata": {},
   "source": [
    "# Grouping data"
   ]
  },
  {
   "cell_type": "code",
   "execution_count": 11,
   "metadata": {},
   "outputs": [],
   "source": [
    "data_df = orders_df.filter(F.col('order_status') == 'delivered').join(customers_df, 'customer_id')\n",
    "\n",
    "data_df = orders_items_df.join(data_df, 'order_id') \\\n",
    "                         .join(sellers_df, 'seller_id') \\\n",
    "                         .select('customer_state', 'customer_city', 'customer_zip_code_prefix', 'seller_state', 'seller_city', 'seller_zip_code_prefix', 'freight_value')\n",
    "\n",
    "data_df = data_df.join(geo_df, data_df.customer_zip_code_prefix == geo_df.geolocation_zip_code_prefix) \\\n",
    "                 .select(F.col('geolocation_lat').alias('customer_lat'), F.col('geolocation_lng').alias('customer_lng'), 'seller_state', 'seller_city', 'seller_zip_code_prefix', 'freight_value') \\\n",
    "                 .join(geo_df, data_df.seller_zip_code_prefix == geo_df.geolocation_zip_code_prefix) \\\n",
    "                 .select('customer_lat', 'customer_lng', F.col('geolocation_lat').alias('seller_lat'), F.col('geolocation_lng').alias('seller_lng'),'freight_value')"
   ]
  },
  {
   "cell_type": "code",
   "execution_count": 5,
   "metadata": {},
   "outputs": [
    {
     "name": "stdout",
     "output_type": "stream",
     "text": [
      "+-------------------+------------------+-------------------+-------------------+-------------+\n",
      "|       customer_lat|      customer_lng|         seller_lat|         seller_lng|freight_value|\n",
      "+-------------------+------------------+-------------------+-------------------+-------------+\n",
      "|-23.494190060505503|-47.40954169025909| -23.54195269441404| -46.65931762155928|        14.43|\n",
      "|-23.494190060505503|-47.40954169025909| -23.54443774132954| -46.65181342394259|        14.43|\n",
      "|-23.494190060505503|-47.40954169025909|-23.542944348058064| -46.65793705274388|        14.43|\n",
      "|-23.494190060505503|-47.40954169025909| -23.54339898029315| -46.65151833472787|        14.43|\n",
      "|-23.494190060505503|-47.40954169025909| -23.54323868858565| -46.65731599111321|        14.43|\n",
      "|-23.494190060505503|-47.40954169025909|-23.544121128772638| -46.65531989785911|        14.43|\n",
      "|-23.494190060505503|-47.40954169025909| -23.54052443880199| -46.65050381848346|        14.43|\n",
      "|-23.494190060505503|-47.40954169025909| -23.54143969441404|-46.660078121559266|        14.43|\n",
      "|-23.494190060505503|-47.40954169025909|  -23.5444758373536| -46.65439170330084|        14.43|\n",
      "|-23.494190060505503|-47.40954169025909| -23.54052443880199| -46.65050381848346|        14.43|\n",
      "|-23.494190060505503|-47.40954169025909|-23.544855063275463|-46.653351616567626|        14.43|\n",
      "|-23.494190060505503|-47.40954169025909| -23.54069585789716| -46.65056346058632|        14.43|\n",
      "|-23.494190060505503|-47.40954169025909| -23.54306972133424| -46.65760946557798|        14.43|\n",
      "|-23.494190060505503|-47.40954169025909|-23.544870987794976| -46.65347143450284|        14.43|\n",
      "|-23.494190060505503|-47.40954169025909|-23.540840832361937|-46.650614537191984|        14.43|\n",
      "|-23.494190060505503|-47.40954169025909| -23.54052443880199| -46.65050381848346|        14.43|\n",
      "|-23.494190060505503|-47.40954169025909|-23.542944348058064| -46.65793705274388|        14.43|\n",
      "|-23.494190060505503|-47.40954169025909|-23.543897741329538| -46.65162344947782|        14.43|\n",
      "|-23.494190060505503|-47.40954169025909|  -23.5444758373536| -46.65439170330084|        14.43|\n",
      "|-23.494190060505503|-47.40954169025909|-23.543897741329538| -46.65162344947782|        14.43|\n",
      "+-------------------+------------------+-------------------+-------------------+-------------+\n",
      "only showing top 20 rows\n",
      "\n"
     ]
    }
   ],
   "source": [
    "data_df.show()"
   ]
  },
  {
   "cell_type": "markdown",
   "metadata": {},
   "source": [
    "# Calculating distance"
   ]
  },
  {
   "cell_type": "code",
   "execution_count": null,
   "metadata": {},
   "outputs": [],
   "source": [
    "def d(c_lat, c_lng, s_lat, s_lng):\n",
    "    radius = 6371 # km\n",
    "\n",
    "    dlat = math.radians(s_lat-c_lat)\n",
    "    dlon = math.radians(s_lng-c_lng)\n",
    "    a = math.sin(dlat/2) * math.sin(dlat/2) + math.cos(math.radians(c_lat)) \\\n",
    "        * math.cos(math.radians(s_lat)) * math.sin(dlon/2) * math.sin(dlon/2)\n",
    "    c = 2 * math.atan2(math.sqrt(a), math.sqrt(1-a))\n",
    "    d = radius * c;\n",
    "\n",
    "    return d\n",
    "\n",
    "distance = F.udf(d)\n",
    "\n",
    "data_df = data_df.withColumn('distance', distance('customer_lat', 'customer_lng', 'seller_lat', 'seller_lng'))\n",
    "\n",
    "data_df.show()"
   ]
  },
  {
   "cell_type": "code",
   "execution_count": null,
   "metadata": {},
   "outputs": [],
   "source": [
    "data_df.groupBy().agg(F.max(F.col('distance'))).show()"
   ]
  },
  {
   "cell_type": "code",
   "execution_count": null,
   "metadata": {},
   "outputs": [],
   "source": []
  }
 ],
 "metadata": {
  "kernelspec": {
   "display_name": "Python 3",
   "language": "python",
   "name": "python3"
  },
  "language_info": {
   "codemirror_mode": {
    "name": "ipython",
    "version": 3
   },
   "file_extension": ".py",
   "mimetype": "text/x-python",
   "name": "python",
   "nbconvert_exporter": "python",
   "pygments_lexer": "ipython3",
   "version": "3.7.4"
  }
 },
 "nbformat": 4,
 "nbformat_minor": 4
}
