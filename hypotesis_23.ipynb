{
 "cells": [
  {
   "cell_type": "markdown",
   "metadata": {},
   "source": [
    "# Hypotesis 23 & 24\n",
    "\n",
    "### H23: The freight value is directly proportional to the order's time of delivery\n",
    "### H24: The freight value is directly proportional to the order's items quantity"
   ]
  },
  {
   "cell_type": "code",
   "execution_count": 1,
   "metadata": {},
   "outputs": [],
   "source": [
    "from pyspark.sql import SparkSession, functions as F, types as T\n",
    "import seaborn as sns\n",
    "import matplotlib.pyplot as plt"
   ]
  },
  {
   "cell_type": "code",
   "execution_count": 2,
   "metadata": {},
   "outputs": [],
   "source": [
    "spark = SparkSession.builder.getOrCreate()"
   ]
  },
  {
   "cell_type": "code",
   "execution_count": 3,
   "metadata": {},
   "outputs": [
    {
     "name": "stdout",
     "output_type": "stream",
     "text": [
      "root\n",
      " |-- order_id: string (nullable = true)\n",
      " |-- customer_id: string (nullable = true)\n",
      " |-- order_status: string (nullable = true)\n",
      " |-- order_purchase_timestamp: timestamp (nullable = true)\n",
      " |-- order_approved_at: timestamp (nullable = true)\n",
      " |-- order_delivered_carrier_date: timestamp (nullable = true)\n",
      " |-- order_delivered_customer_date: timestamp (nullable = true)\n",
      " |-- order_estimated_delivery_date: timestamp (nullable = true)\n",
      "\n",
      "root\n",
      " |-- order_id: string (nullable = true)\n",
      " |-- order_item_id: integer (nullable = true)\n",
      " |-- product_id: string (nullable = true)\n",
      " |-- seller_id: string (nullable = true)\n",
      " |-- shipping_limit_date: timestamp (nullable = true)\n",
      " |-- price: double (nullable = true)\n",
      " |-- freight_value: double (nullable = true)\n",
      "\n"
     ]
    }
   ],
   "source": [
    "orders_df = spark.read \\\n",
    "                      .option('quote', '\\\"') \\\n",
    "                      .option('escape', '\\\"') \\\n",
    "                      .csv('./dataset/olist_orders_dataset.csv', header=True, multiLine=True, inferSchema=True)\n",
    "\n",
    "order_items_df = spark.read \\\n",
    "                      .option('quote', '\\\"') \\\n",
    "                      .option('escape', '\\\"') \\\n",
    "                      .csv('./dataset/olist_order_items_dataset.csv', header=True, multiLine=True, inferSchema=True)\n",
    "\n",
    "orders_df.printSchema()\n",
    "\n",
    "order_items_df.printSchema()\n",
    "\n",
    "df = orders_df.join(order_items_df, 'order_id').filter(F.col('order_delivered_customer_date').isNotNull())\n",
    "df = df.join(df.groupBy('order_id')\n",
    "                 .agg(F.sum('freight_value').alias('total_freight')),\n",
    "                                             how='left', on='order_id')"
   ]
  },
  {
   "cell_type": "code",
   "execution_count": 4,
   "metadata": {
    "scrolled": true
   },
   "outputs": [
    {
     "data": {
      "text/html": [
       "<div>\n",
       "<style scoped>\n",
       "    .dataframe tbody tr th:only-of-type {\n",
       "        vertical-align: middle;\n",
       "    }\n",
       "\n",
       "    .dataframe tbody tr th {\n",
       "        vertical-align: top;\n",
       "    }\n",
       "\n",
       "    .dataframe thead th {\n",
       "        text-align: right;\n",
       "    }\n",
       "</style>\n",
       "<table border=\"1\" class=\"dataframe\">\n",
       "  <thead>\n",
       "    <tr style=\"text-align: right;\">\n",
       "      <th></th>\n",
       "      <th>order_id</th>\n",
       "      <th>customer_id</th>\n",
       "      <th>order_status</th>\n",
       "      <th>order_purchase_timestamp</th>\n",
       "      <th>order_approved_at</th>\n",
       "      <th>order_delivered_carrier_date</th>\n",
       "      <th>order_delivered_customer_date</th>\n",
       "      <th>order_estimated_delivery_date</th>\n",
       "      <th>order_item_id</th>\n",
       "      <th>product_id</th>\n",
       "      <th>seller_id</th>\n",
       "      <th>shipping_limit_date</th>\n",
       "      <th>price</th>\n",
       "      <th>freight_value</th>\n",
       "      <th>total_freight</th>\n",
       "    </tr>\n",
       "  </thead>\n",
       "  <tbody>\n",
       "    <tr>\n",
       "      <th>0</th>\n",
       "      <td>014405982914c2cde2796ddcf0b8703d</td>\n",
       "      <td>2de342d6e5905a5a8bb3a991c855f3e2</td>\n",
       "      <td>delivered</td>\n",
       "      <td>2017-07-26 17:38:47</td>\n",
       "      <td>2017-07-26 17:50:17</td>\n",
       "      <td>2017-07-27 19:39:52</td>\n",
       "      <td>2017-07-31 15:53:33</td>\n",
       "      <td>2017-08-17</td>\n",
       "      <td>1</td>\n",
       "      <td>6782d593f63105318f46bbf7633279bf</td>\n",
       "      <td>325f3178fb58e2a9778334621eecdbf9</td>\n",
       "      <td>2017-08-01 17:50:17</td>\n",
       "      <td>27.90</td>\n",
       "      <td>3.81</td>\n",
       "      <td>29.20</td>\n",
       "    </tr>\n",
       "    <tr>\n",
       "      <th>1</th>\n",
       "      <td>014405982914c2cde2796ddcf0b8703d</td>\n",
       "      <td>2de342d6e5905a5a8bb3a991c855f3e2</td>\n",
       "      <td>delivered</td>\n",
       "      <td>2017-07-26 17:38:47</td>\n",
       "      <td>2017-07-26 17:50:17</td>\n",
       "      <td>2017-07-27 19:39:52</td>\n",
       "      <td>2017-07-31 15:53:33</td>\n",
       "      <td>2017-08-17</td>\n",
       "      <td>2</td>\n",
       "      <td>e95ee6822b66ac6058e2e4aff656071a</td>\n",
       "      <td>a17f621c590ea0fab3d5d883e1630ec6</td>\n",
       "      <td>2017-08-01 17:50:17</td>\n",
       "      <td>21.33</td>\n",
       "      <td>25.39</td>\n",
       "      <td>29.20</td>\n",
       "    </tr>\n",
       "    <tr>\n",
       "      <th>2</th>\n",
       "      <td>019886de8f385a39b75bedbb726fd4ef</td>\n",
       "      <td>8cf88d7ba142365ef2ca619ef06f9a0f</td>\n",
       "      <td>delivered</td>\n",
       "      <td>2018-02-10 12:52:51</td>\n",
       "      <td>2018-02-10 13:08:12</td>\n",
       "      <td>2018-02-14 15:28:51</td>\n",
       "      <td>2018-02-23 02:03:03</td>\n",
       "      <td>2018-03-14</td>\n",
       "      <td>1</td>\n",
       "      <td>e9a69340883a438c3f91739d14d3a56d</td>\n",
       "      <td>1b4c3a6f53068f0b6944d2d005c9fc89</td>\n",
       "      <td>2018-02-15 13:08:12</td>\n",
       "      <td>159.90</td>\n",
       "      <td>28.50</td>\n",
       "      <td>28.50</td>\n",
       "    </tr>\n",
       "    <tr>\n",
       "      <th>3</th>\n",
       "      <td>01a6ad782455876aa89081449d49c452</td>\n",
       "      <td>71accffbcbdf8e02f67a469f65cdbf73</td>\n",
       "      <td>delivered</td>\n",
       "      <td>2018-01-18 10:07:52</td>\n",
       "      <td>2018-01-18 10:17:29</td>\n",
       "      <td>2018-01-22 22:37:04</td>\n",
       "      <td>2018-02-01 21:02:22</td>\n",
       "      <td>2018-02-20</td>\n",
       "      <td>1</td>\n",
       "      <td>036734b5a58d5d4f46b0616ddc047ced</td>\n",
       "      <td>ea8482cd71df3c1969d7b9473ff13abc</td>\n",
       "      <td>2018-01-24 10:17:29</td>\n",
       "      <td>34.99</td>\n",
       "      <td>15.10</td>\n",
       "      <td>15.10</td>\n",
       "    </tr>\n",
       "    <tr>\n",
       "      <th>4</th>\n",
       "      <td>01d907b3e209269e120a365fc2b97524</td>\n",
       "      <td>d02cc92f5e33eb58d9ff4d5cce6ae901</td>\n",
       "      <td>delivered</td>\n",
       "      <td>2017-08-09 16:21:06</td>\n",
       "      <td>2017-08-10 10:25:08</td>\n",
       "      <td>2017-08-11 19:05:53</td>\n",
       "      <td>2017-08-16 22:34:11</td>\n",
       "      <td>2017-08-29</td>\n",
       "      <td>1</td>\n",
       "      <td>b1434a8f79cb3528540d9b21e686e823</td>\n",
       "      <td>d1c281d3ae149232351cd8c8cc885f0d</td>\n",
       "      <td>2017-08-16 10:25:08</td>\n",
       "      <td>151.99</td>\n",
       "      <td>17.77</td>\n",
       "      <td>17.77</td>\n",
       "    </tr>\n",
       "  </tbody>\n",
       "</table>\n",
       "</div>"
      ],
      "text/plain": [
       "                           order_id                       customer_id  \\\n",
       "0  014405982914c2cde2796ddcf0b8703d  2de342d6e5905a5a8bb3a991c855f3e2   \n",
       "1  014405982914c2cde2796ddcf0b8703d  2de342d6e5905a5a8bb3a991c855f3e2   \n",
       "2  019886de8f385a39b75bedbb726fd4ef  8cf88d7ba142365ef2ca619ef06f9a0f   \n",
       "3  01a6ad782455876aa89081449d49c452  71accffbcbdf8e02f67a469f65cdbf73   \n",
       "4  01d907b3e209269e120a365fc2b97524  d02cc92f5e33eb58d9ff4d5cce6ae901   \n",
       "\n",
       "  order_status order_purchase_timestamp   order_approved_at  \\\n",
       "0    delivered      2017-07-26 17:38:47 2017-07-26 17:50:17   \n",
       "1    delivered      2017-07-26 17:38:47 2017-07-26 17:50:17   \n",
       "2    delivered      2018-02-10 12:52:51 2018-02-10 13:08:12   \n",
       "3    delivered      2018-01-18 10:07:52 2018-01-18 10:17:29   \n",
       "4    delivered      2017-08-09 16:21:06 2017-08-10 10:25:08   \n",
       "\n",
       "  order_delivered_carrier_date order_delivered_customer_date  \\\n",
       "0          2017-07-27 19:39:52           2017-07-31 15:53:33   \n",
       "1          2017-07-27 19:39:52           2017-07-31 15:53:33   \n",
       "2          2018-02-14 15:28:51           2018-02-23 02:03:03   \n",
       "3          2018-01-22 22:37:04           2018-02-01 21:02:22   \n",
       "4          2017-08-11 19:05:53           2017-08-16 22:34:11   \n",
       "\n",
       "  order_estimated_delivery_date  order_item_id  \\\n",
       "0                    2017-08-17              1   \n",
       "1                    2017-08-17              2   \n",
       "2                    2018-03-14              1   \n",
       "3                    2018-02-20              1   \n",
       "4                    2017-08-29              1   \n",
       "\n",
       "                         product_id                         seller_id  \\\n",
       "0  6782d593f63105318f46bbf7633279bf  325f3178fb58e2a9778334621eecdbf9   \n",
       "1  e95ee6822b66ac6058e2e4aff656071a  a17f621c590ea0fab3d5d883e1630ec6   \n",
       "2  e9a69340883a438c3f91739d14d3a56d  1b4c3a6f53068f0b6944d2d005c9fc89   \n",
       "3  036734b5a58d5d4f46b0616ddc047ced  ea8482cd71df3c1969d7b9473ff13abc   \n",
       "4  b1434a8f79cb3528540d9b21e686e823  d1c281d3ae149232351cd8c8cc885f0d   \n",
       "\n",
       "  shipping_limit_date   price  freight_value  total_freight  \n",
       "0 2017-08-01 17:50:17   27.90           3.81          29.20  \n",
       "1 2017-08-01 17:50:17   21.33          25.39          29.20  \n",
       "2 2018-02-15 13:08:12  159.90          28.50          28.50  \n",
       "3 2018-01-24 10:17:29   34.99          15.10          15.10  \n",
       "4 2017-08-16 10:25:08  151.99          17.77          17.77  "
      ]
     },
     "execution_count": 4,
     "metadata": {},
     "output_type": "execute_result"
    }
   ],
   "source": [
    "df.limit(5).toPandas()"
   ]
  },
  {
   "cell_type": "markdown",
   "metadata": {},
   "source": [
    "## H23"
   ]
  },
  {
   "cell_type": "code",
   "execution_count": 5,
   "metadata": {},
   "outputs": [
    {
     "name": "stdout",
     "output_type": "stream",
     "text": [
      "+-------------+--------------+\n",
      "|total_freight|order_duration|\n",
      "+-------------+--------------+\n",
      "|         29.2|             5|\n",
      "|         29.2|             5|\n",
      "|         28.5|            13|\n",
      "|         15.1|            14|\n",
      "|        17.77|             7|\n",
      "|        11.73|             2|\n",
      "|        14.14|             9|\n",
      "|         8.88|             4|\n",
      "|        14.73|             7|\n",
      "|        45.34|            27|\n",
      "|        45.34|            27|\n",
      "|        24.52|            27|\n",
      "|        11.37|             2|\n",
      "|        57.33|            27|\n",
      "|        15.15|             9|\n",
      "|        37.38|             3|\n",
      "|        37.38|             3|\n",
      "|        33.87|             8|\n",
      "|        21.51|             6|\n",
      "|         28.0|            10|\n",
      "+-------------+--------------+\n",
      "only showing top 20 rows\n",
      "\n"
     ]
    }
   ],
   "source": [
    "aux_df = df.select(F.col('total_freight'),\n",
    "                   F.col('order_purchase_timestamp').alias('purchase'),\n",
    "                   F.col('order_delivered_customer_date').alias('deliver'))\n",
    "aux_df = aux_df.withColumn('order_duration', F.datediff(F.col('deliver'), F.col('purchase')))\n",
    "aux_df = aux_df.drop('purchase', 'deliver')\n",
    "aux_df.show()"
   ]
  },
  {
   "cell_type": "code",
   "execution_count": 6,
   "metadata": {},
   "outputs": [
    {
     "data": {
      "text/plain": [
       "0.12590689743280645"
      ]
     },
     "execution_count": 6,
     "metadata": {},
     "output_type": "execute_result"
    }
   ],
   "source": [
    "aux_df.stat.corr('total_freight', 'order_duration')"
   ]
  },
  {
   "cell_type": "markdown",
   "metadata": {},
   "source": [
    "# Conclusion H23\n",
    "\n",
    "### The hypotesis 23 is not valid, as there is nearly no correlation between the freight value and the time of delivery"
   ]
  },
  {
   "cell_type": "markdown",
   "metadata": {},
   "source": [
    "## H24"
   ]
  },
  {
   "cell_type": "code",
   "execution_count": null,
   "metadata": {},
   "outputs": [],
   "source": [
    "aux_df = order_items_df.groupBy('order_id').agg(F.max('order_item_id').alias('total_items'))"
   ]
  }
 ],
 "metadata": {
  "kernelspec": {
   "display_name": "Python 3",
   "language": "python",
   "name": "python3"
  },
  "language_info": {
   "codemirror_mode": {
    "name": "ipython",
    "version": 3
   },
   "file_extension": ".py",
   "mimetype": "text/x-python",
   "name": "python",
   "nbconvert_exporter": "python",
   "pygments_lexer": "ipython3",
   "version": "3.7.4"
  }
 },
 "nbformat": 4,
 "nbformat_minor": 4
}
