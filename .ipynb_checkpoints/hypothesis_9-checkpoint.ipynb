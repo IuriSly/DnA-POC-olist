{
 "cells": [
  {
   "cell_type": "markdown",
   "metadata": {},
   "source": [
    "# Importing PySpark and opening file"
   ]
  },
  {
   "cell_type": "code",
   "execution_count": 98,
   "metadata": {},
   "outputs": [
    {
     "ename": "SyntaxError",
     "evalue": "invalid syntax (<ipython-input-98-2576c41015c0>, line 16)",
     "output_type": "error",
     "traceback": [
      "\u001b[0;36m  File \u001b[0;32m\"<ipython-input-98-2576c41015c0>\"\u001b[0;36m, line \u001b[0;32m16\u001b[0m\n\u001b[0;31m    reviews_df.printSchema()s\u001b[0m\n\u001b[0m                            ^\u001b[0m\n\u001b[0;31mSyntaxError\u001b[0m\u001b[0;31m:\u001b[0m invalid syntax\n"
     ]
    }
   ],
   "source": [
    "from pyspark.sql import SparkSession, functions as F\n",
    "spark = SparkSession.builder.getOrCreate()\n",
    "\n",
    "orders_df = spark.read \\\n",
    "                 .option('escape', '\\\"') \\\n",
    "                 .option('quote', '\\\"') \\\n",
    "                 .csv('./dataset/olist_orders_dataset.csv', header=True, multiLine=True, inferSchema=True)\n",
    "\n",
    "reviews_df = spark.read \\\n",
    "                  .option('escape', '\\\"') \\\n",
    "                  .option('quote', '\\\"') \\\n",
    "                  .csv('./dataset/olist_order_reviews_dataset.csv', header=True, multiLine=True, inferSchema=True)\n",
    "\n",
    "orders_df.printSchema()\n",
    "\n",
    "reviews_df.printSchema()"
   ]
  },
  {
   "cell_type": "markdown",
   "metadata": {},
   "source": [
    "# Selecting all orders ids and their respective purchase delivery time"
   ]
  },
  {
   "cell_type": "code",
   "execution_count": null,
   "metadata": {},
   "outputs": [],
   "source": [
    "orders_df.select('order_id', 'order_estimated_delivery_date', 'order_delivered_customer_date').show()\n",
    "\n",
    "orders_df = orders_df.withColumn('shipment_delay_time', F.datediff('order_estimated_delivery_date', 'order_delivered_customer_date')) \\\n",
    "                     .filter(F.col('order_status') == 'delivered').filter(F.col('shipment_delay_time') < 0).select('order_id', 'shipment_delay_time')\n",
    "orders_df.show()\n",
    "\n",
    "orders_df = orders_df.join(reviews_df, orders_df.order_id == reviews_df.order_id).select('shipment_delay_time', 'review_score') \\\n",
    "                     .orderBy('shipment_delay_time').withColumn('shipment_delay_time', -orders_df['shipment_delay_time'])\n",
    "\n",
    "orders_df.toPandas().plot(x ='review_score', y='shipment_delay_time', kind = 'scatter')\n",
    "\n",
    "import seaborn as sns\n",
    "import pandas as pd\n",
    "sns.set(style=\"whitegrid\")\n",
    "ax = sns.swarmplot(x='review_score', y='shipment_delay_time', data=orders_df.toPandas())"
   ]
  }
 ],
 "metadata": {
  "kernelspec": {
   "display_name": "Python 3",
   "language": "python",
   "name": "python3"
  }
 },
 "nbformat": 4,
 "nbformat_minor": 4
}
