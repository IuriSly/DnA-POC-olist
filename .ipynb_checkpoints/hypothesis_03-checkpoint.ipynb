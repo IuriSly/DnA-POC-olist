{
 "cells": [
  {
   "cell_type": "markdown",
   "metadata": {},
   "source": [
    "# Hypothesis 3\n",
    "\n",
    "`The time of the order flow is inversely proportional to the order's score`"
   ]
  },
  {
   "cell_type": "code",
   "execution_count": 52,
   "metadata": {},
   "outputs": [],
   "source": [
    "from pyspark.sql import SparkSession, functions as F"
   ]
  },
  {
   "cell_type": "code",
   "execution_count": null,
   "metadata": {},
   "outputs": [],
   "source": [
    "spark = SparkSession.builder.getOrCreate()"
   ]
  },
  {
   "cell_type": "markdown",
   "metadata": {},
   "source": [
    "## Reading files and joining DFs"
   ]
  },
  {
   "cell_type": "code",
   "execution_count": 7,
   "metadata": {
    "scrolled": true
   },
   "outputs": [],
   "source": [
    "orders_df = spark.read \\\n",
    "                 .option('quote', '\\\"') \\\n",
    "                 .option('escape', '\\\"') \\\n",
    "                 .csv('./dataset/olist_orders_dataset.csv', header=True, multiLine=True)\n",
    "\n",
    "order_reviews_df = spark.read \\\n",
    "                 .option('quote', '\\\"') \\\n",
    "                 .option('escape', '\\\"') \\\n",
    "                 .csv('./dataset/olist_order_reviews_dataset.csv', header=True, multiLine=True)\n",
    "\n",
    "df = orders_df.join(order_reviews_df, orders_df.order_id == order_reviews_df.order_id)"
   ]
  },
  {
   "cell_type": "code",
   "execution_count": 13,
   "metadata": {},
   "outputs": [
    {
     "data": {
      "text/html": [
       "<div>\n",
       "<style scoped>\n",
       "    .dataframe tbody tr th:only-of-type {\n",
       "        vertical-align: middle;\n",
       "    }\n",
       "\n",
       "    .dataframe tbody tr th {\n",
       "        vertical-align: top;\n",
       "    }\n",
       "\n",
       "    .dataframe thead th {\n",
       "        text-align: right;\n",
       "    }\n",
       "</style>\n",
       "<table border=\"1\" class=\"dataframe\">\n",
       "  <thead>\n",
       "    <tr style=\"text-align: right;\">\n",
       "      <th></th>\n",
       "      <th>order_id</th>\n",
       "      <th>customer_id</th>\n",
       "      <th>order_status</th>\n",
       "      <th>order_purchase_timestamp</th>\n",
       "      <th>order_approved_at</th>\n",
       "      <th>order_delivered_carrier_date</th>\n",
       "      <th>order_delivered_customer_date</th>\n",
       "      <th>order_estimated_delivery_date</th>\n",
       "      <th>review_id</th>\n",
       "      <th>order_id</th>\n",
       "      <th>review_score</th>\n",
       "      <th>review_comment_title</th>\n",
       "      <th>review_comment_message</th>\n",
       "      <th>review_creation_date</th>\n",
       "      <th>review_answer_timestamp</th>\n",
       "    </tr>\n",
       "  </thead>\n",
       "  <tbody>\n",
       "    <tr>\n",
       "      <th>0</th>\n",
       "      <td>014405982914c2cde2796ddcf0b8703d</td>\n",
       "      <td>2de342d6e5905a5a8bb3a991c855f3e2</td>\n",
       "      <td>delivered</td>\n",
       "      <td>2017-07-26 17:38:47</td>\n",
       "      <td>2017-07-26 17:50:17</td>\n",
       "      <td>2017-07-27 19:39:52</td>\n",
       "      <td>2017-07-31 15:53:33</td>\n",
       "      <td>2017-08-17 00:00:00</td>\n",
       "      <td>ba5e6d78da2b2c3f5127ab99abe93629</td>\n",
       "      <td>014405982914c2cde2796ddcf0b8703d</td>\n",
       "      <td>5</td>\n",
       "      <td>None</td>\n",
       "      <td>None</td>\n",
       "      <td>2017-08-01 00:00:00</td>\n",
       "      <td>2017-08-04 19:34:54</td>\n",
       "    </tr>\n",
       "    <tr>\n",
       "      <th>1</th>\n",
       "      <td>019886de8f385a39b75bedbb726fd4ef</td>\n",
       "      <td>8cf88d7ba142365ef2ca619ef06f9a0f</td>\n",
       "      <td>delivered</td>\n",
       "      <td>2018-02-10 12:52:51</td>\n",
       "      <td>2018-02-10 13:08:12</td>\n",
       "      <td>2018-02-14 15:28:51</td>\n",
       "      <td>2018-02-23 02:03:03</td>\n",
       "      <td>2018-03-14 00:00:00</td>\n",
       "      <td>3a6ebeb7f45583720372e838e99cec6a</td>\n",
       "      <td>019886de8f385a39b75bedbb726fd4ef</td>\n",
       "      <td>5</td>\n",
       "      <td>None</td>\n",
       "      <td>Produto foi entregue antes do prazo e em perfe...</td>\n",
       "      <td>2018-02-24 00:00:00</td>\n",
       "      <td>2018-02-27 15:10:57</td>\n",
       "    </tr>\n",
       "    <tr>\n",
       "      <th>2</th>\n",
       "      <td>01a6ad782455876aa89081449d49c452</td>\n",
       "      <td>71accffbcbdf8e02f67a469f65cdbf73</td>\n",
       "      <td>delivered</td>\n",
       "      <td>2018-01-18 10:07:52</td>\n",
       "      <td>2018-01-18 10:17:29</td>\n",
       "      <td>2018-01-22 22:37:04</td>\n",
       "      <td>2018-02-01 21:02:22</td>\n",
       "      <td>2018-02-20 00:00:00</td>\n",
       "      <td>34fdf58aa22a5d9c4929b2b719a1b7f5</td>\n",
       "      <td>01a6ad782455876aa89081449d49c452</td>\n",
       "      <td>3</td>\n",
       "      <td>None</td>\n",
       "      <td>None</td>\n",
       "      <td>2018-02-02 00:00:00</td>\n",
       "      <td>2018-02-05 09:59:55</td>\n",
       "    </tr>\n",
       "    <tr>\n",
       "      <th>3</th>\n",
       "      <td>01d907b3e209269e120a365fc2b97524</td>\n",
       "      <td>d02cc92f5e33eb58d9ff4d5cce6ae901</td>\n",
       "      <td>delivered</td>\n",
       "      <td>2017-08-09 16:21:06</td>\n",
       "      <td>2017-08-10 10:25:08</td>\n",
       "      <td>2017-08-11 19:05:53</td>\n",
       "      <td>2017-08-16 22:34:11</td>\n",
       "      <td>2017-08-29 00:00:00</td>\n",
       "      <td>d551da337adf573d0a25ebfd02e9fb5c</td>\n",
       "      <td>01d907b3e209269e120a365fc2b97524</td>\n",
       "      <td>5</td>\n",
       "      <td>None</td>\n",
       "      <td>None</td>\n",
       "      <td>2017-08-17 00:00:00</td>\n",
       "      <td>2017-08-20 20:01:58</td>\n",
       "    </tr>\n",
       "    <tr>\n",
       "      <th>4</th>\n",
       "      <td>028dc52e12ddda803ec1e35eb0b7b0d9</td>\n",
       "      <td>8c89a09d8fb33b6e5dc8a769d6b2bd63</td>\n",
       "      <td>delivered</td>\n",
       "      <td>2017-12-19 09:43:54</td>\n",
       "      <td>2017-12-19 10:53:22</td>\n",
       "      <td>2017-12-20 16:49:18</td>\n",
       "      <td>2017-12-21 14:22:56</td>\n",
       "      <td>2018-01-08 00:00:00</td>\n",
       "      <td>a096e8952867d580352f684759a44c0f</td>\n",
       "      <td>028dc52e12ddda803ec1e35eb0b7b0d9</td>\n",
       "      <td>5</td>\n",
       "      <td>None</td>\n",
       "      <td>Já comprei diversas vezes e sempre recebi tudo...</td>\n",
       "      <td>2017-12-22 00:00:00</td>\n",
       "      <td>2017-12-23 13:02:52</td>\n",
       "    </tr>\n",
       "  </tbody>\n",
       "</table>\n",
       "</div>"
      ],
      "text/plain": [
       "                           order_id                       customer_id  \\\n",
       "0  014405982914c2cde2796ddcf0b8703d  2de342d6e5905a5a8bb3a991c855f3e2   \n",
       "1  019886de8f385a39b75bedbb726fd4ef  8cf88d7ba142365ef2ca619ef06f9a0f   \n",
       "2  01a6ad782455876aa89081449d49c452  71accffbcbdf8e02f67a469f65cdbf73   \n",
       "3  01d907b3e209269e120a365fc2b97524  d02cc92f5e33eb58d9ff4d5cce6ae901   \n",
       "4  028dc52e12ddda803ec1e35eb0b7b0d9  8c89a09d8fb33b6e5dc8a769d6b2bd63   \n",
       "\n",
       "  order_status order_purchase_timestamp    order_approved_at  \\\n",
       "0    delivered      2017-07-26 17:38:47  2017-07-26 17:50:17   \n",
       "1    delivered      2018-02-10 12:52:51  2018-02-10 13:08:12   \n",
       "2    delivered      2018-01-18 10:07:52  2018-01-18 10:17:29   \n",
       "3    delivered      2017-08-09 16:21:06  2017-08-10 10:25:08   \n",
       "4    delivered      2017-12-19 09:43:54  2017-12-19 10:53:22   \n",
       "\n",
       "  order_delivered_carrier_date order_delivered_customer_date  \\\n",
       "0          2017-07-27 19:39:52           2017-07-31 15:53:33   \n",
       "1          2018-02-14 15:28:51           2018-02-23 02:03:03   \n",
       "2          2018-01-22 22:37:04           2018-02-01 21:02:22   \n",
       "3          2017-08-11 19:05:53           2017-08-16 22:34:11   \n",
       "4          2017-12-20 16:49:18           2017-12-21 14:22:56   \n",
       "\n",
       "  order_estimated_delivery_date                         review_id  \\\n",
       "0           2017-08-17 00:00:00  ba5e6d78da2b2c3f5127ab99abe93629   \n",
       "1           2018-03-14 00:00:00  3a6ebeb7f45583720372e838e99cec6a   \n",
       "2           2018-02-20 00:00:00  34fdf58aa22a5d9c4929b2b719a1b7f5   \n",
       "3           2017-08-29 00:00:00  d551da337adf573d0a25ebfd02e9fb5c   \n",
       "4           2018-01-08 00:00:00  a096e8952867d580352f684759a44c0f   \n",
       "\n",
       "                           order_id review_score review_comment_title  \\\n",
       "0  014405982914c2cde2796ddcf0b8703d            5                 None   \n",
       "1  019886de8f385a39b75bedbb726fd4ef            5                 None   \n",
       "2  01a6ad782455876aa89081449d49c452            3                 None   \n",
       "3  01d907b3e209269e120a365fc2b97524            5                 None   \n",
       "4  028dc52e12ddda803ec1e35eb0b7b0d9            5                 None   \n",
       "\n",
       "                              review_comment_message review_creation_date  \\\n",
       "0                                               None  2017-08-01 00:00:00   \n",
       "1  Produto foi entregue antes do prazo e em perfe...  2018-02-24 00:00:00   \n",
       "2                                               None  2018-02-02 00:00:00   \n",
       "3                                               None  2017-08-17 00:00:00   \n",
       "4  Já comprei diversas vezes e sempre recebi tudo...  2017-12-22 00:00:00   \n",
       "\n",
       "  review_answer_timestamp  \n",
       "0     2017-08-04 19:34:54  \n",
       "1     2018-02-27 15:10:57  \n",
       "2     2018-02-05 09:59:55  \n",
       "3     2017-08-20 20:01:58  \n",
       "4     2017-12-23 13:02:52  "
      ]
     },
     "execution_count": 13,
     "metadata": {},
     "output_type": "execute_result"
    }
   ],
   "source": [
    "df.limit(5).toPandas()"
   ]
  },
  {
   "cell_type": "code",
   "execution_count": 154,
   "metadata": {},
   "outputs": [
    {
     "name": "stdout",
     "output_type": "stream",
     "text": [
      "+-------------------+-------------------+------------+\n",
      "|           purchase|            deliver|review_score|\n",
      "+-------------------+-------------------+------------+\n",
      "|2017-10-02 10:56:33|2017-10-10 21:25:13|           4|\n",
      "|2018-07-24 20:41:37|2018-08-07 15:27:45|           4|\n",
      "|2018-08-08 08:38:49|2018-08-17 18:06:29|           5|\n",
      "|2017-11-18 19:28:06|2017-12-02 00:28:42|           5|\n",
      "|2018-02-13 21:18:39|2018-02-16 18:17:02|           5|\n",
      "+-------------------+-------------------+------------+\n",
      "\n"
     ]
    }
   ],
   "source": [
    "aux_df = df.select(F.trim(F.col('order_purchase_timestamp')).alias('purchase'), \n",
    "                   F.trim(F.col('order_delivered_customer_date')).alias('deliver'), \n",
    "                   F.col('review_score')).filter(F.col('order_status') == 'delivered') \\\n",
    "                                         .filter(F.col('order_status').isNotNull())\n",
    "aux_df.limit(5).show()"
   ]
  },
  {
   "cell_type": "code",
   "execution_count": 216,
   "metadata": {},
   "outputs": [],
   "source": [
    "aux_df = aux_df.withColumn('date_dif', F.datediff(F.col('deliver'), F.col('purchase')))"
   ]
  },
  {
   "cell_type": "code",
   "execution_count": null,
   "metadata": {},
   "outputs": [],
   "source": []
  }
 ],
 "metadata": {
  "kernelspec": {
   "display_name": "Python 3",
   "language": "python",
   "name": "python3"
  },
  "language_info": {
   "codemirror_mode": {
    "name": "ipython",
    "version": 3
   },
   "file_extension": ".py",
   "mimetype": "text/x-python",
   "name": "python",
   "nbconvert_exporter": "python",
   "pygments_lexer": "ipython3",
   "version": "3.7.4"
  }
 },
 "nbformat": 4,
 "nbformat_minor": 4
}
