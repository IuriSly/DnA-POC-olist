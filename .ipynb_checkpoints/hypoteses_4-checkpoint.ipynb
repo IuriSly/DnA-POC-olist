{
 "cells": [
  {
   "cell_type": "markdown",
   "metadata": {},
   "source": [
    "# Calculating the percentage of canceled orders\n",
    "\n",
    "This notebook contains the calculation of the percentage of canceled orders from Olist. Also validating the hypotesis that says `one order that was canceled has a review note less than 3`"
   ]
  },
  {
   "cell_type": "code",
   "execution_count": 74,
   "metadata": {},
   "outputs": [],
   "source": [
    "from pyspark.sql import SparkSession, functions as F\n",
    "import seaborn as sns; sns.set(color_codes=True)"
   ]
  },
  {
   "cell_type": "code",
   "execution_count": 76,
   "metadata": {},
   "outputs": [],
   "source": [
    "spark = SparkSession.builder.getOrCreate()"
   ]
  },
  {
   "cell_type": "markdown",
   "metadata": {},
   "source": [
    "## Reading files and joining DFs"
   ]
  },
  {
   "cell_type": "code",
   "execution_count": 77,
   "metadata": {
    "scrolled": true
   },
   "outputs": [],
   "source": [
    "orders_df = spark.read \\\n",
    "                 .option('quote', '\\\"') \\\n",
    "                 .option('escape', '\\\"') \\\n",
    "                 .csv('./dataset/olist_orders_dataset.csv', header=True, multiLine=True)"
   ]
  },
  {
   "cell_type": "code",
   "execution_count": 78,
   "metadata": {
    "scrolled": true
   },
   "outputs": [],
   "source": [
    "order_reviews_df = spark.read \\\n",
    "                 .option('quote', '\\\"') \\\n",
    "                 .option('escape', '\\\"') \\\n",
    "                 .csv('./dataset/olist_order_reviews_dataset.csv', header=True, multiLine=True)"
   ]
  },
  {
   "cell_type": "code",
   "execution_count": 109,
   "metadata": {},
   "outputs": [
    {
     "name": "stdout",
     "output_type": "stream",
     "text": [
      "+------------+-----+\n",
      "|order_status|count|\n",
      "+------------+-----+\n",
      "|     shipped| 1118|\n",
      "|    canceled|  629|\n",
      "|    approved|    2|\n",
      "|    invoiced|  318|\n",
      "|     created|    5|\n",
      "|   delivered|97015|\n",
      "| unavailable|  611|\n",
      "|  processing|  302|\n",
      "+------------+-----+\n",
      "\n"
     ]
    }
   ],
   "source": [
    "df = orders_df.join(order_reviews_df, orders_df.order_id == order_reviews_df.order_id)\n",
    "df.groupBy('order_status').count().show()"
   ]
  },
  {
   "cell_type": "markdown",
   "metadata": {},
   "source": [
    "## Calculating percentage of canceled orders"
   ]
  },
  {
   "cell_type": "code",
   "execution_count": 81,
   "metadata": {},
   "outputs": [
    {
     "name": "stdout",
     "output_type": "stream",
     "text": [
      "The percentage of canceled orders is: 0.63%\n"
     ]
    }
   ],
   "source": [
    "canceled_orders_df = df.where(F.col('order_status') == 'canceled')\n",
    "total_canceled = canceled_orders_df.count()\n",
    "percentage_canceled = (total_canceled / df.count()) * 100\n",
    "print('The percentage of canceled orders is: {0:.2f}%'.format(percentage_canceled))"
   ]
  },
  {
   "cell_type": "code",
   "execution_count": 108,
   "metadata": {
    "scrolled": false
   },
   "outputs": [
    {
     "data": {
      "text/html": [
       "<div>\n",
       "<style scoped>\n",
       "    .dataframe tbody tr th:only-of-type {\n",
       "        vertical-align: middle;\n",
       "    }\n",
       "\n",
       "    .dataframe tbody tr th {\n",
       "        vertical-align: top;\n",
       "    }\n",
       "\n",
       "    .dataframe thead th {\n",
       "        text-align: right;\n",
       "    }\n",
       "</style>\n",
       "<table border=\"1\" class=\"dataframe\">\n",
       "  <thead>\n",
       "    <tr style=\"text-align: right;\">\n",
       "      <th></th>\n",
       "      <th>order_id</th>\n",
       "      <th>customer_id</th>\n",
       "      <th>order_status</th>\n",
       "      <th>order_purchase_timestamp</th>\n",
       "      <th>order_approved_at</th>\n",
       "      <th>order_delivered_carrier_date</th>\n",
       "      <th>order_delivered_customer_date</th>\n",
       "      <th>order_estimated_delivery_date</th>\n",
       "      <th>review_id</th>\n",
       "      <th>order_id</th>\n",
       "      <th>review_score</th>\n",
       "      <th>review_comment_title</th>\n",
       "      <th>review_comment_message</th>\n",
       "      <th>review_creation_date</th>\n",
       "      <th>review_answer_timestamp</th>\n",
       "    </tr>\n",
       "  </thead>\n",
       "  <tbody>\n",
       "    <tr>\n",
       "      <th>0</th>\n",
       "      <td>f79644ec98219489ae16ee7aabac4ebb</td>\n",
       "      <td>15d1752086d06a721b7842591ce41eb8</td>\n",
       "      <td>canceled</td>\n",
       "      <td>2018-05-05 13:36:10</td>\n",
       "      <td>2018-05-05 13:50:25</td>\n",
       "      <td>None</td>\n",
       "      <td>None</td>\n",
       "      <td>2018-05-17 00:00:00</td>\n",
       "      <td>805298fb462e582a5d24b11e763cfcf4</td>\n",
       "      <td>f79644ec98219489ae16ee7aabac4ebb</td>\n",
       "      <td>5</td>\n",
       "      <td>None</td>\n",
       "      <td>EU NÃO RECEBI O PRODUTO POIS O VENDEDOR NÃO PO...</td>\n",
       "      <td>2018-05-19 00:00:00</td>\n",
       "      <td>2018-05-21 12:32:09</td>\n",
       "    </tr>\n",
       "    <tr>\n",
       "      <th>1</th>\n",
       "      <td>3a129877493c8189c59c60eb71d97c29</td>\n",
       "      <td>0913cdce793684e52bbfac69d87e91fd</td>\n",
       "      <td>canceled</td>\n",
       "      <td>2018-01-25 13:34:24</td>\n",
       "      <td>2018-01-25 13:50:20</td>\n",
       "      <td>2018-01-26 21:42:18</td>\n",
       "      <td>None</td>\n",
       "      <td>2018-02-23 00:00:00</td>\n",
       "      <td>15c8f3b3ff412d0f8d6b72053335fd0b</td>\n",
       "      <td>3a129877493c8189c59c60eb71d97c29</td>\n",
       "      <td>1</td>\n",
       "      <td>None</td>\n",
       "      <td>Não recebi o produto e também não tive reembolso</td>\n",
       "      <td>2018-02-25 00:00:00</td>\n",
       "      <td>2018-02-25 11:02:38</td>\n",
       "    </tr>\n",
       "    <tr>\n",
       "      <th>2</th>\n",
       "      <td>fa6d0c0ef7a7849ab7847303d458df3c</td>\n",
       "      <td>1ec1771954d299bf9a497cec57932c3d</td>\n",
       "      <td>canceled</td>\n",
       "      <td>2018-02-05 14:32:21</td>\n",
       "      <td>2018-02-05 14:48:31</td>\n",
       "      <td>None</td>\n",
       "      <td>None</td>\n",
       "      <td>2018-03-14 00:00:00</td>\n",
       "      <td>fcc5c9242321a4e6c564bced7e4af8cf</td>\n",
       "      <td>fa6d0c0ef7a7849ab7847303d458df3c</td>\n",
       "      <td>1</td>\n",
       "      <td>None</td>\n",
       "      <td>None</td>\n",
       "      <td>2018-03-16 00:00:00</td>\n",
       "      <td>2018-03-16 15:53:44</td>\n",
       "    </tr>\n",
       "    <tr>\n",
       "      <th>3</th>\n",
       "      <td>0a0e76ba55e310fd24657a1f532b97c1</td>\n",
       "      <td>faf4c7a6a07938227b98f454caee1814</td>\n",
       "      <td>canceled</td>\n",
       "      <td>2018-06-24 14:49:59</td>\n",
       "      <td>2018-06-24 15:18:57</td>\n",
       "      <td>None</td>\n",
       "      <td>None</td>\n",
       "      <td>2018-07-20 00:00:00</td>\n",
       "      <td>3fc3a51ee4c3103dbb5ec0f505703457</td>\n",
       "      <td>0a0e76ba55e310fd24657a1f532b97c1</td>\n",
       "      <td>1</td>\n",
       "      <td>Aguardando</td>\n",
       "      <td>É a segunda vez que compro o mesmo produto, a ...</td>\n",
       "      <td>2018-07-22 00:00:00</td>\n",
       "      <td>2018-07-24 10:21:50</td>\n",
       "    </tr>\n",
       "    <tr>\n",
       "      <th>4</th>\n",
       "      <td>227c804e2a44760671a6a5697ea549e4</td>\n",
       "      <td>62e7477e75e542243ee62a0ba73f410f</td>\n",
       "      <td>canceled</td>\n",
       "      <td>2017-09-28 15:02:56</td>\n",
       "      <td>None</td>\n",
       "      <td>None</td>\n",
       "      <td>None</td>\n",
       "      <td>2017-10-16 00:00:00</td>\n",
       "      <td>c00b1a92c8643de86fef532ea9f244e9</td>\n",
       "      <td>227c804e2a44760671a6a5697ea549e4</td>\n",
       "      <td>1</td>\n",
       "      <td>None</td>\n",
       "      <td>acredito que a compra tenha sido cancelada.</td>\n",
       "      <td>2017-10-18 00:00:00</td>\n",
       "      <td>2017-10-18 13:56:27</td>\n",
       "    </tr>\n",
       "  </tbody>\n",
       "</table>\n",
       "</div>"
      ],
      "text/plain": [
       "                           order_id                       customer_id  \\\n",
       "0  f79644ec98219489ae16ee7aabac4ebb  15d1752086d06a721b7842591ce41eb8   \n",
       "1  3a129877493c8189c59c60eb71d97c29  0913cdce793684e52bbfac69d87e91fd   \n",
       "2  fa6d0c0ef7a7849ab7847303d458df3c  1ec1771954d299bf9a497cec57932c3d   \n",
       "3  0a0e76ba55e310fd24657a1f532b97c1  faf4c7a6a07938227b98f454caee1814   \n",
       "4  227c804e2a44760671a6a5697ea549e4  62e7477e75e542243ee62a0ba73f410f   \n",
       "\n",
       "  order_status order_purchase_timestamp    order_approved_at  \\\n",
       "0     canceled      2018-05-05 13:36:10  2018-05-05 13:50:25   \n",
       "1     canceled      2018-01-25 13:34:24  2018-01-25 13:50:20   \n",
       "2     canceled      2018-02-05 14:32:21  2018-02-05 14:48:31   \n",
       "3     canceled      2018-06-24 14:49:59  2018-06-24 15:18:57   \n",
       "4     canceled      2017-09-28 15:02:56                 None   \n",
       "\n",
       "  order_delivered_carrier_date order_delivered_customer_date  \\\n",
       "0                         None                          None   \n",
       "1          2018-01-26 21:42:18                          None   \n",
       "2                         None                          None   \n",
       "3                         None                          None   \n",
       "4                         None                          None   \n",
       "\n",
       "  order_estimated_delivery_date                         review_id  \\\n",
       "0           2018-05-17 00:00:00  805298fb462e582a5d24b11e763cfcf4   \n",
       "1           2018-02-23 00:00:00  15c8f3b3ff412d0f8d6b72053335fd0b   \n",
       "2           2018-03-14 00:00:00  fcc5c9242321a4e6c564bced7e4af8cf   \n",
       "3           2018-07-20 00:00:00  3fc3a51ee4c3103dbb5ec0f505703457   \n",
       "4           2017-10-16 00:00:00  c00b1a92c8643de86fef532ea9f244e9   \n",
       "\n",
       "                           order_id review_score review_comment_title  \\\n",
       "0  f79644ec98219489ae16ee7aabac4ebb            5                 None   \n",
       "1  3a129877493c8189c59c60eb71d97c29            1                 None   \n",
       "2  fa6d0c0ef7a7849ab7847303d458df3c            1                 None   \n",
       "3  0a0e76ba55e310fd24657a1f532b97c1            1           Aguardando   \n",
       "4  227c804e2a44760671a6a5697ea549e4            1                 None   \n",
       "\n",
       "                              review_comment_message review_creation_date  \\\n",
       "0  EU NÃO RECEBI O PRODUTO POIS O VENDEDOR NÃO PO...  2018-05-19 00:00:00   \n",
       "1   Não recebi o produto e também não tive reembolso  2018-02-25 00:00:00   \n",
       "2                                               None  2018-03-16 00:00:00   \n",
       "3  É a segunda vez que compro o mesmo produto, a ...  2018-07-22 00:00:00   \n",
       "4        acredito que a compra tenha sido cancelada.  2017-10-18 00:00:00   \n",
       "\n",
       "  review_answer_timestamp  \n",
       "0     2018-05-21 12:32:09  \n",
       "1     2018-02-25 11:02:38  \n",
       "2     2018-03-16 15:53:44  \n",
       "3     2018-07-24 10:21:50  \n",
       "4     2017-10-18 13:56:27  "
      ]
     },
     "execution_count": 108,
     "metadata": {},
     "output_type": "execute_result"
    }
   ],
   "source": [
    "canceled_orders_df.limit(5).toPandas()"
   ]
  },
  {
   "cell_type": "markdown",
   "metadata": {},
   "source": [
    "## Calculating mean review score"
   ]
  },
  {
   "cell_type": "code",
   "execution_count": 110,
   "metadata": {},
   "outputs": [
    {
     "name": "stdout",
     "output_type": "stream",
     "text": [
      "+------------------+\n",
      "| avg(review_score)|\n",
      "+------------------+\n",
      "|1.8108108108108107|\n",
      "+------------------+\n",
      "\n"
     ]
    }
   ],
   "source": [
    "review_score_mean = canceled_orders_df.select(F.mean('review_score'))\n",
    "review_score_mean.show()"
   ]
  },
  {
   "cell_type": "markdown",
   "metadata": {},
   "source": [
    "## Ploting KDE"
   ]
  },
  {
   "cell_type": "code",
   "execution_count": 85,
   "metadata": {},
   "outputs": [
    {
     "name": "stdout",
     "output_type": "stream",
     "text": [
      "+------------+-----+\n",
      "|review_score|count|\n",
      "+------------+-----+\n",
      "|           1|  436|\n",
      "|           2|   45|\n",
      "|           3|   50|\n",
      "|           4|   27|\n",
      "|           5|   71|\n",
      "+------------+-----+\n",
      "\n"
     ]
    }
   ],
   "source": [
    "canceled_orders_df.groupBy('review_score').count().orderBy('review_score').show()"
   ]
  },
  {
   "cell_type": "code",
   "execution_count": 111,
   "metadata": {},
   "outputs": [],
   "source": [
    "percentage_per_score = canceled_orders_df.select('review_score') \\\n",
    "                       .toPandas().astype(int)['review_score'].value_counts(normalize=True)"
   ]
  },
  {
   "cell_type": "code",
   "execution_count": 112,
   "metadata": {},
   "outputs": [
    {
     "name": "stdout",
     "output_type": "stream",
     "text": [
      "The percentage of review's score < 3 is: 76.47%\n",
      "The percentage of review's score ≥ 3 is: 23.53%\n"
     ]
    }
   ],
   "source": [
    "ppscore_less_than_3 = percentage_per_score[[1, 2]].sum(axis=0) * 100\n",
    "ppscore_greater_than_3 = percentage_per_score[[3, 4, 5]].sum(axis=0) * 100\n",
    "\n",
    "print('The percentage of review\\'s score < 3 is: {0:.2f}%'.format(ppscore_less_than_3))\n",
    "print('The percentage of review\\'s score ≥ 3 is: {0:.2f}%'.format(ppscore_greater_than_3))"
   ]
  },
  {
   "cell_type": "code",
   "execution_count": 113,
   "metadata": {},
   "outputs": [
    {
     "data": {
      "text/plain": [
       "<matplotlib.axes._subplots.AxesSubplot at 0x7fcc2561dd50>"
      ]
     },
     "execution_count": 113,
     "metadata": {},
     "output_type": "execute_result"
    },
    {
     "data": {
      "image/png": "[encoded data removed]",
      "text/plain": [
       "<Figure size 432x288 with 1 Axes>"
      ]
     },
     "metadata": {},
     "output_type": "display_data"
    }
   ],
   "source": [
    "canceled_orders_df.groupBy('review_score').count().orderBy('review_score').toPandas().plot(kind=\"bar\")"
   ]
  },
  {
   "cell_type": "code",
   "execution_count": 114,
   "metadata": {},
   "outputs": [
    {
     "data": {
      "text/plain": [
       "<matplotlib.axes._subplots.AxesSubplot at 0x7fcc255b5350>"
      ]
     },
     "execution_count": 114,
     "metadata": {},
     "output_type": "execute_result"
    },
    {
     "data": {
      "image/png": "[encoded data removed]",
      "text/plain": [
       "<Figure size 432x288 with 1 Axes>"
      ]
     },
     "metadata": {},
     "output_type": "display_data"
    }
   ],
   "source": [
    "canceled_orders_df.select('review_score').toPandas().astype(int).plot.kde()"
   ]
  },
  {
   "cell_type": "markdown",
   "metadata": {},
   "source": [
    "# Conclusion\n",
    "\n",
    "## Hypoteses is valid, as the average of the review's score is below 3."
   ]
  }
 ],
 "metadata": {
  "kernelspec": {
   "display_name": "Python 3",
   "language": "python",
   "name": "python3"
  },
  "language_info": {
   "codemirror_mode": {
    "name": "ipython",
    "version": 3
   },
   "file_extension": ".py",
   "mimetype": "text/x-python",
   "name": "python",
   "nbconvert_exporter": "python",
   "pygments_lexer": "ipython3",
   "version": "3.7.4"
  }
 },
 "nbformat": 4,
 "nbformat_minor": 4
}
