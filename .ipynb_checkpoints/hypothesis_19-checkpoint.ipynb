{
 "cells": [
  {
   "cell_type": "markdown",
   "metadata": {},
   "source": [
    "# Review score by delivery in same and different states"
   ]
  },
  {
   "cell_type": "code",
   "execution_count": 47,
   "metadata": {},
   "outputs": [
    {
     "name": "stdout",
     "output_type": "stream",
     "text": [
      "+--------------+------------+------------+\n",
      "|customer_state|seller_state|review_score|\n",
      "+--------------+------------+------------+\n",
      "|            SP|          SP|           4|\n",
      "|            BA|          SP|           4|\n",
      "|            GO|          SP|           5|\n",
      "|            RN|          MG|           5|\n",
      "|            SP|          SP|           5|\n",
      "|            PR|          SP|           4|\n",
      "|            RS|          SP|           2|\n",
      "|            RJ|          SP|           5|\n",
      "|            RS|          SP|           1|\n",
      "|            SP|          SP|           5|\n",
      "|            RJ|          ES|           1|\n",
      "|            RJ|          ES|           1|\n",
      "|            SP|          RS|           4|\n",
      "|            MG|          SP|           5|\n",
      "|            SP|          SP|           5|\n",
      "|            SP|          SP|           4|\n",
      "|            GO|          DF|           5|\n",
      "|            RJ|          SP|           4|\n",
      "|            SC|          SP|           5|\n",
      "|            SP|          SP|           5|\n",
      "+--------------+------------+------------+\n",
      "only showing top 20 rows\n",
      "\n"
     ]
    }
   ],
   "source": [
    "from pyspark.sql import SparkSession, functions as F\n",
    "spark = SparkSession.builder.getOrCreate()\n",
    "\n",
    "orders_items_df = spark.read \\\n",
    "                 .option('escape', '\\\"') \\\n",
    "                 .option('quote', '\\\"') \\\n",
    "                 .csv('./dataset/olist_order_items_dataset.csv', header=True, multiLine=True, inferSchema=True)\n",
    "\n",
    "orders_df = spark.read \\\n",
    "                 .option('escape', '\\\"') \\\n",
    "                 .option('quote', '\\\"') \\\n",
    "                 .csv('./dataset/olist_orders_dataset.csv', header=True, multiLine=True, inferSchema=True)\n",
    "\n",
    "reviews_df = spark.read \\\n",
    "                  .option('escape', '\\\"') \\\n",
    "                  .option('quote', '\\\"') \\\n",
    "                  .csv('./dataset/olist_order_reviews_dataset.csv', header=True, multiLine=True, inferSchema=True)\n",
    "\n",
    "customers_df = spark.read \\\n",
    "                  .option('escape', '\\\"') \\\n",
    "                  .option('quote', '\\\"') \\\n",
    "                  .csv('./dataset/olist_customers_dataset.csv', header=True, multiLine=True, inferSchema=True)\n",
    "\n",
    "sellers_df = spark.read \\\n",
    "                  .option('escape', '\\\"') \\\n",
    "                  .option('quote', '\\\"') \\\n",
    "                  .csv('./dataset/olist_sellers_dataset.csv', header=True, multiLine=True, inferSchema=True)\n",
    "\n",
    "data_df = orders_df.join(customers_df, 'customer_id') \\\n",
    "                   .join(reviews_df, 'order_id')\n",
    "\n",
    "data_df = orders_items_df.join(data_df, 'order_id') \\\n",
    "                         .join(sellers_df, 'seller_id') \\\n",
    "                         .select('customer_state', 'seller_state', 'review_score')\n",
    "\n",
    "data_df.show()"
   ]
  },
  {
   "cell_type": "markdown",
   "metadata": {},
   "source": [
    "## Same state"
   ]
  },
  {
   "cell_type": "code",
   "execution_count": 42,
   "metadata": {},
   "outputs": [
    {
     "name": "stdout",
     "output_type": "stream",
     "text": [
      "+-----------------+-------------------------+\n",
      "|avg(review_score)|stddev_samp(review_score)|\n",
      "+-----------------+-------------------------+\n",
      "| 4.13092594851775|       1.3257080150521428|\n",
      "+-----------------+-------------------------+\n",
      "\n"
     ]
    }
   ],
   "source": [
    "data_df.filter(F.col('customer_state') == F.col('seller_state')).groupBy().agg(F.mean('review_score'), F.stddev('review_score')).show()"
   ]
  },
  {
   "cell_type": "markdown",
   "metadata": {},
   "source": [
    "## Different state"
   ]
  },
  {
   "cell_type": "code",
   "execution_count": 43,
   "metadata": {},
   "outputs": [
    {
     "name": "stdout",
     "output_type": "stream",
     "text": [
      "+-----------------+-------------------------+\n",
      "|avg(review_score)|stddev_samp(review_score)|\n",
      "+-----------------+-------------------------+\n",
      "|3.950053223108506|        1.436542696903658|\n",
      "+-----------------+-------------------------+\n",
      "\n"
     ]
    }
   ],
   "source": [
    "data_df.filter(F.col('customer_state') != F.col('seller_state')).groupBy().agg(F.mean('review_score'), F.stddev('review_score')).show()"
   ]
  },
  {
   "cell_type": "markdown",
   "metadata": {},
   "source": [
    "# Calculating shipment delay time and comparing between states"
   ]
  },
  {
   "cell_type": "code",
   "execution_count": 44,
   "metadata": {},
   "outputs": [
    {
     "name": "stdout",
     "output_type": "stream",
     "text": [
      "+-------------------+--------------+------------+\n",
      "|shipment_delay_time|customer_state|seller_state|\n",
      "+-------------------+--------------+------------+\n",
      "|                188|            RJ|          SP|\n",
      "|                181|            ES|          MG|\n",
      "|                175|            SP|          SP|\n",
      "|                167|            SP|          RS|\n",
      "|                166|            SE|          MG|\n",
      "|                165|            PA|          MG|\n",
      "|                162|            MG|          SP|\n",
      "|                161|            SP|          SP|\n",
      "|                161|            PI|          SP|\n",
      "|                161|            SP|          SP|\n",
      "|                159|            SE|          SP|\n",
      "|                155|            PI|          SP|\n",
      "|                155|            RS|          SP|\n",
      "|                155|            RS|          SP|\n",
      "|                153|            SP|          SP|\n",
      "|                153|            RS|          SP|\n",
      "|                152|            GO|          SP|\n",
      "|                144|            AP|          SP|\n",
      "|                144|            AP|          SP|\n",
      "|                143|            RJ|          SP|\n",
      "+-------------------+--------------+------------+\n",
      "only showing top 20 rows\n",
      "\n"
     ]
    }
   ],
   "source": [
    "orders_df = orders_df.withColumn('shipment_delay_time', F.datediff('order_estimated_delivery_date', 'order_delivered_customer_date')) \\\n",
    "                     .filter(F.col('order_status') == 'delivered').filter(F.col('shipment_delay_time') < 0)\n",
    "\n",
    "orders_df = orders_df.join(customers_df, 'customer_id')\n",
    "\n",
    "orders_df = orders_items_df.join(orders_df, 'order_id') \\\n",
    "                           .join(sellers_df, 'seller_id') \\\n",
    "                           .select('shipment_delay_time', 'customer_state', 'seller_state') \\\n",
    "                           .orderBy('shipment_delay_time').withColumn('shipment_delay_time', -orders_df['shipment_delay_time'])\n",
    "\n",
    "orders_df.show()"
   ]
  },
  {
   "cell_type": "markdown",
   "metadata": {},
   "source": [
    "# Same state"
   ]
  },
  {
   "cell_type": "code",
   "execution_count": 45,
   "metadata": {},
   "outputs": [
    {
     "name": "stdout",
     "output_type": "stream",
     "text": [
      "+------------------------+--------------------------------+\n",
      "|avg(shipment_delay_time)|stddev_samp(shipment_delay_time)|\n",
      "+------------------------+--------------------------------+\n",
      "|       7.678510998307953|              12.856139921192154|\n",
      "+------------------------+--------------------------------+\n",
      "\n"
     ]
    }
   ],
   "source": [
    "orders_df.filter(F.col('customer_state') == F.col('seller_state')).groupBy().agg(F.mean('shipment_delay_time'), F.stddev('shipment_delay_time')).show()"
   ]
  },
  {
   "cell_type": "markdown",
   "metadata": {},
   "source": [
    "# Different state"
   ]
  },
  {
   "cell_type": "code",
   "execution_count": 46,
   "metadata": {},
   "outputs": [
    {
     "name": "stdout",
     "output_type": "stream",
     "text": [
      "+------------------------+--------------------------------+\n",
      "|avg(shipment_delay_time)|stddev_samp(shipment_delay_time)|\n",
      "+------------------------+--------------------------------+\n",
      "|      11.395920597341103|              14.881237613184904|\n",
      "+------------------------+--------------------------------+\n",
      "\n"
     ]
    }
   ],
   "source": [
    "orders_df.filter(F.col('customer_state') != F.col('seller_state')).groupBy().agg(F.mean('shipment_delay_time'), F.stddev('shipment_delay_time')).show()"
   ]
  },
  {
   "cell_type": "markdown",
   "metadata": {},
   "source": [
    "# Conclusion"
   ]
  },
  {
   "cell_type": "markdown",
   "metadata": {},
   "source": [
    "### It's not possible to conclude that the review score or the shipment delay time changes when the customer state and the seller state is different or equal since the difference between these two is little."
   ]
  }
 ],
 "metadata": {
  "kernelspec": {
   "display_name": "Python 3",
   "language": "python",
   "name": "python3"
  },
  "language_info": {
   "codemirror_mode": {
    "name": "ipython",
    "version": 3
   },
   "file_extension": ".py",
   "mimetype": "text/x-python",
   "name": "python",
   "nbconvert_exporter": "python",
   "pygments_lexer": "ipython3",
   "version": "3.7.4"
  }
 },
 "nbformat": 4,
 "nbformat_minor": 4
}
