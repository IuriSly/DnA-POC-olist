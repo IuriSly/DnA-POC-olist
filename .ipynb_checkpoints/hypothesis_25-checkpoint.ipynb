{
 "cells": [
  {
   "cell_type": "markdown",
   "metadata": {},
   "source": [
    "# Calculating the distance between the Customer's city and the Seller's city"
   ]
  },
  {
   "cell_type": "code",
   "execution_count": 1,
   "metadata": {},
   "outputs": [],
   "source": [
    "from pyspark.sql import SparkSession, functions as F\n",
    "import math"
   ]
  },
  {
   "cell_type": "code",
   "execution_count": 2,
   "metadata": {},
   "outputs": [],
   "source": [
    "spark = SparkSession.builder.getOrCreate()"
   ]
  },
  {
   "cell_type": "code",
   "execution_count": 3,
   "metadata": {},
   "outputs": [],
   "source": [
    "orders_items_df = spark.read \\\n",
    "                 .option('escape', '\\\"') \\\n",
    "                 .option('quote', '\\\"') \\\n",
    "                 .csv('./dataset/olist_order_items_dataset.csv', header=True, multiLine=True, inferSchema=True)\n",
    "\n",
    "orders_df = spark.read \\\n",
    "                 .option('escape', '\\\"') \\\n",
    "                 .option('quote', '\\\"') \\\n",
    "                 .csv('./dataset/olist_orders_dataset.csv', header=True, multiLine=True, inferSchema=True)\n",
    "\n",
    "customers_df = spark.read \\\n",
    "                  .option('escape', '\\\"') \\\n",
    "                  .option('quote', '\\\"') \\\n",
    "                  .csv('./dataset/olist_customers_dataset.csv', header=True, multiLine=True, inferSchema=True)\n",
    "\n",
    "sellers_df = spark.read \\\n",
    "                  .option('escape', '\\\"') \\\n",
    "                  .option('quote', '\\\"') \\\n",
    "                  .csv('./dataset/olist_sellers_dataset.csv', header=True, multiLine=True, inferSchema=True)\n",
    "\n"
   ]
  },
  {
   "cell_type": "code",
   "execution_count": 4,
   "metadata": {},
   "outputs": [],
   "source": [
    "geo_df = spark.read \\\n",
    "                  .option('escape', '\\\"') \\\n",
    "                  .option('quote', '\\\"') \\\n",
    "                  .csv('./dataset/olist_geolocation_dataset.csv', header=True, multiLine=True, inferSchema=True)"
   ]
  },
  {
   "cell_type": "markdown",
   "metadata": {},
   "source": [
    "# Grouping data"
   ]
  },
  {
   "cell_type": "code",
   "execution_count": 5,
   "metadata": {},
   "outputs": [
    {
     "data": {
      "text/plain": [
       "109661"
      ]
     },
     "execution_count": 5,
     "metadata": {},
     "output_type": "execute_result"
    }
   ],
   "source": [
    "data_df = orders_df.filter(F.col('order_status') == 'delivered').join(customers_df, 'customer_id')\n",
    "\n",
    "data_df = orders_items_df.join(data_df, 'order_id') \\\n",
    "                         .join(sellers_df, 'seller_id') \\\n",
    "                         .select('customer_state', 'customer_city', 'customer_zip_code_prefix', 'seller_zip_code_prefix', 'freight_value')\n",
    "\n",
    "geo_df = geo_df.groupBy('geolocation_zip_code_prefix').agg(F.min('geolocation_lat').alias('geolocation_lat'), F.min('geolocation_lng').alias('geolocation_lng'))\n",
    "\n",
    "data_df = data_df.join(geo_df, data_df.customer_zip_code_prefix == geo_df.geolocation_zip_code_prefix) \\\n",
    "                 .select(F.col('geolocation_lat').alias('customer_lat'), F.col('geolocation_lng').alias('customer_lng'), 'seller_zip_code_prefix', 'freight_value') \\\n",
    "                 .join(geo_df, data_df.seller_zip_code_prefix == geo_df.geolocation_zip_code_prefix) \\\n",
    "                 .select('customer_lat', 'customer_lng', F.col('geolocation_lat').alias('seller_lat'), F.col('geolocation_lng').alias('seller_lng'),'freight_value')\n",
    "data_df.count()\n"
   ]
  },
  {
   "cell_type": "code",
   "execution_count": 6,
   "metadata": {},
   "outputs": [
    {
     "name": "stdout",
     "output_type": "stream",
     "text": [
      "+-------------------+-------------------+-------------------+-------------------+-------------+\n",
      "|       customer_lat|       customer_lng|         seller_lat|         seller_lng|freight_value|\n",
      "+-------------------+-------------------+-------------------+-------------------+-------------+\n",
      "| -23.50648246805157|-47.422068081741564|-23.545262137111173| -46.66134804356862|        14.43|\n",
      "| -23.82558722913311| -46.56982049999999| -23.51441473688614| -46.59097058895492|         9.34|\n",
      "|-21.213665497085813| -47.81670447259758| -23.51441473688614| -46.59097058895492|        11.74|\n",
      "|-21.445954952757404| -50.12641249999996| -23.51441473688614| -46.59097058895492|         3.07|\n",
      "|-21.445954952757404| -50.12641249999996| -23.51441473688614| -46.59097058895492|         3.06|\n",
      "|-23.635655999999997|   -46.751535578894| -23.51441473688614| -46.59097058895492|         9.34|\n",
      "| -23.49878075214959|-46.632511331380975| -23.51441473688614| -46.59097058895492|         9.34|\n",
      "|-22.970853233039268|-43.671131559512865|-23.593123748530044| -46.64060056549716|        15.72|\n",
      "| -3.814121000836711| -38.59399257936673|-23.593123748530044| -46.64060056549716|        17.63|\n",
      "| -3.814121000836711| -38.59399257936673|-23.593123748530044| -46.64060056549716|        17.63|\n",
      "| -3.814121000836711| -38.59399257936673|-23.593123748530044| -46.64060056549716|        17.63|\n",
      "| -3.814121000836711| -38.59399257936673|-23.593123748530044| -46.64060056549716|        17.63|\n",
      "| -20.26779007607431|  -56.7781600607055|-23.593123748530044| -46.64060056549716|        18.77|\n",
      "|-12.991703180012463| -38.45058108919243|-23.593123748530044| -46.64060056549716|        17.53|\n",
      "| -23.51441473688614| -46.59097058895492|-23.204420999999996|-46.590299999999985|         7.46|\n",
      "| -23.63496067770149| -46.75505959566482|-23.204420999999996|-46.590299999999985|         7.45|\n",
      "| -23.74259343710035| -46.60832671234592|-23.204420999999996|-46.590299999999985|         7.87|\n",
      "|-23.214238574995893| -49.40174227177037|-23.204420999999996|-46.590299999999985|        13.08|\n",
      "|-25.546951194558265| -49.29139473619366|-23.204420999999996|-46.590299999999985|         18.3|\n",
      "|-26.883628877564163| -49.08164479732078|-23.204420999999996|-46.590299999999985|        18.23|\n",
      "+-------------------+-------------------+-------------------+-------------------+-------------+\n",
      "only showing top 20 rows\n",
      "\n"
     ]
    }
   ],
   "source": [
    "data_df.show()"
   ]
  },
  {
   "cell_type": "markdown",
   "metadata": {},
   "source": [
    "# Calculating distance"
   ]
  },
  {
   "cell_type": "code",
   "execution_count": 7,
   "metadata": {},
   "outputs": [
    {
     "name": "stdout",
     "output_type": "stream",
     "text": [
      "+-------------------+-------------------+-------------------+-------------------+-------------+------------------+\n",
      "|       customer_lat|       customer_lng|         seller_lat|         seller_lng|freight_value|          distance|\n",
      "+-------------------+-------------------+-------------------+-------------------+-------------+------------------+\n",
      "| -23.50648246805157|-47.422068081741564|-23.545262137111173| -46.66134804356862|        14.43| 77.67691920579136|\n",
      "| -23.82558722913311| -46.56982049999999| -23.51441473688614| -46.59097058895492|         9.34|34.667779619845135|\n",
      "|-21.213665497085813| -47.81670447259758| -23.51441473688614| -46.59097058895492|        11.74| 285.1904555969043|\n",
      "|-21.445954952757404| -50.12641249999996| -23.51441473688614| -46.59097058895492|         3.07| 429.9117657164478|\n",
      "|-21.445954952757404| -50.12641249999996| -23.51441473688614| -46.59097058895492|         3.06| 429.9117657164478|\n",
      "|-23.635655999999997|   -46.751535578894| -23.51441473688614| -46.59097058895492|         9.34|21.201989898325316|\n",
      "| -23.49878075214959|-46.632511331380975| -23.51441473688614| -46.59097058895492|         9.34|  4.57865588323346|\n",
      "|-22.970853233039268|-43.671131559512865|-23.593123748530044| -46.64060056549716|        15.72|311.08784955393077|\n",
      "| -3.814121000836711| -38.59399257936673|-23.593123748530044| -46.64060056549716|        17.63|2362.9895306493527|\n",
      "| -3.814121000836711| -38.59399257936673|-23.593123748530044| -46.64060056549716|        17.63|2362.9895306493527|\n",
      "| -3.814121000836711| -38.59399257936673|-23.593123748530044| -46.64060056549716|        17.63|2362.9895306493527|\n",
      "| -3.814121000836711| -38.59399257936673|-23.593123748530044| -46.64060056549716|        17.63|2362.9895306493527|\n",
      "| -20.26779007607431|  -56.7781600607055|-23.593123748530044| -46.64060056549716|        18.77|1108.7398255326386|\n",
      "|-12.991703180012463| -38.45058108919243|-23.593123748530044| -46.64060056549716|        17.53|1460.9299074564092|\n",
      "| -23.51441473688614| -46.59097058895492|-23.204420999999996|-46.590299999999985|         7.46|34.469798805617216|\n",
      "| -23.63496067770149| -46.75505959566482|-23.204420999999996|-46.590299999999985|         7.45|50.739692068937146|\n",
      "| -23.74259343710035| -46.60832671234592|-23.204420999999996|-46.590299999999985|         7.87|  59.8702823591726|\n",
      "|-23.214238574995893| -49.40174227177037|-23.204420999999996|-46.590299999999985|        13.08|287.31589739648564|\n",
      "|-25.546951194558265| -49.29139473619366|-23.204420999999996|-46.590299999999985|         18.3|377.72000872499245|\n",
      "|-26.883628877564163| -49.08164479732078|-23.204420999999996|-46.590299999999985|        18.23|  479.920438191282|\n",
      "+-------------------+-------------------+-------------------+-------------------+-------------+------------------+\n",
      "only showing top 20 rows\n",
      "\n"
     ]
    }
   ],
   "source": [
    "def d(c_lat, c_lng, s_lat, s_lng):\n",
    "    radius = 6371 # km\n",
    "\n",
    "    dlat = math.radians(s_lat-c_lat)\n",
    "    dlon = math.radians(s_lng-c_lng)\n",
    "    a = math.sin(dlat/2) * math.sin(dlat/2) + math.cos(math.radians(c_lat)) \\\n",
    "        * math.cos(math.radians(s_lat)) * math.sin(dlon/2) * math.sin(dlon/2)\n",
    "    c = 2 * math.atan2(math.sqrt(a), math.sqrt(1-a))\n",
    "    d = radius * c;\n",
    "\n",
    "    return d\n",
    "\n",
    "distance = F.udf(d)\n",
    "\n",
    "data_df = data_df.withColumn('distance', distance('customer_lat', 'customer_lng', 'seller_lat', 'seller_lng'))\n",
    "\n",
    "data_df.show()"
   ]
  },
  {
   "cell_type": "code",
   "execution_count": 8,
   "metadata": {},
   "outputs": [],
   "source": [
    "data_df = data_df.withColumn('distance', F.col('distance').cast('double'))"
   ]
  },
  {
   "cell_type": "code",
   "execution_count": 9,
   "metadata": {},
   "outputs": [
    {
     "name": "stdout",
     "output_type": "stream",
     "text": [
      "root\n",
      " |-- customer_lat: double (nullable = true)\n",
      " |-- customer_lng: double (nullable = true)\n",
      " |-- seller_lat: double (nullable = true)\n",
      " |-- seller_lng: double (nullable = true)\n",
      " |-- freight_value: double (nullable = true)\n",
      " |-- distance: double (nullable = true)\n",
      "\n"
     ]
    }
   ],
   "source": [
    "data_df.printSchema()"
   ]
  },
  {
   "cell_type": "code",
   "execution_count": 10,
   "metadata": {},
   "outputs": [
    {
     "data": {
      "text/plain": [
       "0.3894926307458334"
      ]
     },
     "execution_count": 10,
     "metadata": {},
     "output_type": "execute_result"
    }
   ],
   "source": [
    "data_df.stat.corr('distance','freight_value')"
   ]
  }
 ],
 "metadata": {
  "kernelspec": {
   "display_name": "Python 3",
   "language": "python",
   "name": "python3"
  },
  "language_info": {
   "codemirror_mode": {
    "name": "ipython",
    "version": 3
   },
   "file_extension": ".py",
   "mimetype": "text/x-python",
   "name": "python",
   "nbconvert_exporter": "python",
   "pygments_lexer": "ipython3",
   "version": "3.7.4"
  }
 },
 "nbformat": 4,
 "nbformat_minor": 4
}
