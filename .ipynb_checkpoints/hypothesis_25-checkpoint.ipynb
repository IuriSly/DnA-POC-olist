{
 "cells": [
  {
   "cell_type": "markdown",
   "metadata": {},
   "source": [
    "# Calculating the distance between the Customer's city and the Seller's city"
   ]
  },
  {
   "cell_type": "code",
   "execution_count": null,
   "metadata": {},
   "outputs": [],
   "source": [
    "from pyspark.sql import SparkSession, functions as F\n",
    "import math"
   ]
  },
  {
   "cell_type": "code",
   "execution_count": null,
   "metadata": {},
   "outputs": [],
   "source": [
    "spark = SparkSession.builder.getOrCreate()"
   ]
  },
  {
   "cell_type": "code",
   "execution_count": null,
   "metadata": {},
   "outputs": [],
   "source": [
    "orders_items_df = spark.read \\\n",
    "                 .option('escape', '\\\"') \\\n",
    "                 .option('quote', '\\\"') \\\n",
    "                 .csv('./dataset/olist_order_items_dataset.csv', header=True, multiLine=True, inferSchema=True)\n",
    "\n",
    "orders_df = spark.read \\\n",
    "                 .option('escape', '\\\"') \\\n",
    "                 .option('quote', '\\\"') \\\n",
    "                 .csv('./dataset/olist_orders_dataset.csv', header=True, multiLine=True, inferSchema=True)\n",
    "\n",
    "customers_df = spark.read \\\n",
    "                  .option('escape', '\\\"') \\\n",
    "                  .option('quote', '\\\"') \\\n",
    "                  .csv('./dataset/olist_customers_dataset.csv', header=True, multiLine=True, inferSchema=True)\n",
    "\n",
    "sellers_df = spark.read \\\n",
    "                  .option('escape', '\\\"') \\\n",
    "                  .option('quote', '\\\"') \\\n",
    "                  .csv('./dataset/olist_sellers_dataset.csv', header=True, multiLine=True, inferSchema=True)\n",
    "\n",
    "geo_df = spark.read \\\n",
    "                  .option('escape', '\\\"') \\\n",
    "                  .option('quote', '\\\"') \\\n",
    "                  .csv('./dataset/olist_geolocation_dataset.csv', header=True, multiLine=True, inferSchema=True)"
   ]
  },
  {
   "cell_type": "markdown",
   "metadata": {},
   "source": [
    "# Grouping data"
   ]
  },
  {
   "cell_type": "code",
   "execution_count": 3,
   "metadata": {},
   "outputs": [],
   "source": [
    "data_df = orders_df.filter(F.col('order_status') == 'delivered').join(customers_df, 'customer_id')\n",
    "\n",
    "data_df = orders_items_df.join(data_df, 'order_id') \\\n",
    "                         .join(sellers_df, 'seller_id') \\\n",
    "                         .select('customer_state', 'customer_city', 'customer_zip_code_prefix', 'seller_state', 'seller_city', 'seller_zip_code_prefix', 'freight_value')\n",
    "\n",
    "data_df = data_df.join(geo_df, data_df.customer_zip_code_prefix == geo_df.geolocation_zip_code_prefix) \\\n",
    "                 .select(F.col('geolocation_lat').alias('customer_lat'), F.col('geolocation_lng').alias('customer_lng'), 'seller_state', 'seller_city', 'seller_zip_code_prefix', 'freight_value') \\\n",
    "                 .join(geo_df, data_df.seller_zip_code_prefix == geo_df.geolocation_zip_code_prefix) \\\n",
    "                 .select('customer_lat', 'customer_lng', F.col('geolocation_lat').alias('seller_lat'), F.col('geolocation_lng').alias('seller_lng'),'freight_value')"
   ]
  },
  {
   "cell_type": "markdown",
   "metadata": {},
   "source": [
    "# Calculating distance"
   ]
  },
  {
   "cell_type": "code",
   "execution_count": null,
   "metadata": {},
   "outputs": [],
   "source": [
    "def d(c_lat, c_lng, s_lat, s_lng):\n",
    "    print(c_lat)\n",
    "    print(c_lng)\n",
    "    print(s_lat)\n",
    "    print(s_lng)\n",
    "    radius = 6371 # km\n",
    "\n",
    "    dlat = math.radians(s_lat-c_lat)\n",
    "    dlon = math.radians(s_lng-c_lng)\n",
    "    a = math.sin(dlat/2) * math.sin(dlat/2) + math.cos(math.radians(c_lat)) \\\n",
    "        * math.cos(math.radians(s_lat)) * math.sin(dlon/2) * math.sin(dlon/2)\n",
    "    c = 2 * math.atan2(math.sqrt(a), math.sqrt(1-a))\n",
    "    d = radius * c\n",
    "\n",
    "    return d\n",
    "\n",
    "distance = F.udf(d)\n",
    "\n",
    "data_df = data_df.withColumn('distance', \\\n",
    "                  distance('customer_lat', 'customer_lng', 'seller_lat', 'seller_lng'))\n",
    "# data_df.limit(100).toPandas()\n",
    "data_df.groupBy().agg(F.max(F.col('distance'))).show()"
   ]
  }
 ],
 "metadata": {
  "kernelspec": {
   "display_name": "Python 3",
   "language": "python",
   "name": "python3"
  },
  "language_info": {
   "codemirror_mode": {
    "name": "ipython",
    "version": 3
   },
   "file_extension": ".py",
   "mimetype": "text/x-python",
   "name": "python",
   "nbconvert_exporter": "python",
   "pygments_lexer": "ipython3",
   "version": "3.7.4"
  }
 },
 "nbformat": 4,
 "nbformat_minor": 4
}
