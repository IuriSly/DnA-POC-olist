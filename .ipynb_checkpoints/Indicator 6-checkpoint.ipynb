{
 "cells": [
  {
   "cell_type": "markdown",
   "metadata": {},
   "source": [
    "# Importing PySpark and Opening file"
   ]
  },
  {
   "cell_type": "code",
   "execution_count": null,
   "metadata": {},
   "outputs": [],
   "source": [
    "from pyspark.sql import SparkSession, functions as F\n",
    "spark = SparkSession.builder.getOrCreate()\n",
    "\n",
    "orders_df = spark.read \\\n",
    "                 .option('escape', '\\\"') \\\n",
    "                 .option('quote', '\\\"') \\\n",
    "                 .csv('./dataset/olist_orders_dataset.csv', header=True, multiLine=True, inferSchema=True)\n",
    "\n",
    "orders_df.printSchema()"
   ]
  },
  {
   "cell_type": "markdown",
   "metadata": {},
   "source": [
    "# Printing the average of the time since purchase to delivery"
   ]
  },
  {
   "cell_type": "code",
   "execution_count": 58,
   "metadata": {},
   "outputs": [
    {
     "name": "stdout",
     "output_type": "stream",
     "text": [
      "+---------------------------+\n",
      "|avg(purchase_delivery_time)|\n",
      "+---------------------------+\n",
      "|         12.496848761272934|\n",
      "+---------------------------+\n",
      "\n"
     ]
    }
   ],
   "source": [
    "orders_df = orders_df.withColumn('purchase_delivery_time', F.datediff('order_delivered_customer_date', 'order_purchase_timestamp'))\n",
    "orders_df.filter(F.col('order_status') == 'delivered').select(F.mean('purchase_delivery_time')).show()"
   ]
  },
  {
   "cell_type": "markdown",
   "metadata": {},
   "source": [
    "# Printing the average of the time since purchase to approval"
   ]
  },
  {
   "cell_type": "code",
   "execution_count": 64,
   "metadata": {},
   "outputs": [
    {
     "name": "stdout",
     "output_type": "stream",
     "text": [
      "+---------------------------+\n",
      "|avg(purchase_approval_time)|\n",
      "+---------------------------+\n",
      "|         0.5127301376679383|\n",
      "+---------------------------+\n",
      "\n"
     ]
    }
   ],
   "source": [
    "orders_df = orders_df.withColumn('purchase_approval_time', F.datediff('order_approved_at', 'order_purchase_timestamp'))\n",
    "orders_df.filter(F.col('order_status') == 'delivered').select(F.mean('purchase_approval_time')).show()"
   ]
  },
  {
   "cell_type": "markdown",
   "metadata": {},
   "source": [
    "# Printing the average of the time since approval to shipping"
   ]
  },
  {
   "cell_type": "code",
   "execution_count": 65,
   "metadata": {},
   "outputs": [
    {
     "name": "stdout",
     "output_type": "stream",
     "text": [
      "+---------------------------+\n",
      "|avg(approval_shipping_time)|\n",
      "+---------------------------+\n",
      "|          2.700928863179283|\n",
      "+---------------------------+\n",
      "\n"
     ]
    }
   ],
   "source": [
    "orders_df = orders_df.withColumn('approval_shipping_time', F.datediff('order_delivered_carrier_date', 'order_approved_at'))\n",
    "orders_df.filter(F.col('order_status') == 'delivered').select(F.mean('approval_shipping_time')).show()"
   ]
  },
  {
   "cell_type": "markdown",
   "metadata": {},
   "source": [
    "# Printing the average of the time since shipping to delivery"
   ]
  },
  {
   "cell_type": "code",
   "execution_count": 61,
   "metadata": {},
   "outputs": [
    {
     "name": "stdout",
     "output_type": "stream",
     "text": [
      "+---------------------------+\n",
      "|avg(shipping_delivery_time)|\n",
      "+---------------------------+\n",
      "|           9.28252599280598|\n",
      "+---------------------------+\n",
      "\n"
     ]
    }
   ],
   "source": [
    "orders_df = orders_df.withColumn('shipping_delivery_time', F.datediff('order_delivered_customer_date', 'order_delivered_carrier_date'))\n",
    "orders_df.filter(F.col('order_status') == 'delivered').select(F.mean('shipping_delivery_time')).show()"
   ]
  }
 ],
 "metadata": {
  "kernelspec": {
   "display_name": "Python 3",
   "language": "python",
   "name": "python3"
  },
  "language_info": {
   "codemirror_mode": {
    "name": "ipython",
    "version": 3
   },
   "file_extension": ".py",
   "mimetype": "text/x-python",
   "name": "python",
   "nbconvert_exporter": "python",
   "pygments_lexer": "ipython3",
   "version": "3.7.4"
  }
 },
 "nbformat": 4,
 "nbformat_minor": 4
}
