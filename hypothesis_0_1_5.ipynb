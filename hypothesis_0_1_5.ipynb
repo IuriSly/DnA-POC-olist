{
 "cells": [
  {
   "cell_type": "markdown",
   "metadata": {},
   "source": [
    "# Verificação das hipóteses relacionadas a nota média"
   ]
  },
  {
   "cell_type": "markdown",
   "metadata": {},
   "source": [
    "## Verificação das hipóteses 0, 1 e 5\n",
    "\n",
    "Hipótese 0: Se o pedido é cancelado, a nota do pedido é menor \\\n",
    "Hipótese 1: Se o pedido foi entregue com atraso, a nota do pedido será menor \\\n",
    "Hipótese 5: Se o pedido atrasar sua nota será menor que três"
   ]
  },
  {
   "cell_type": "markdown",
   "metadata": {},
   "source": [
    "### Definição do dataframe"
   ]
  },
  {
   "cell_type": "code",
   "execution_count": 1,
   "metadata": {},
   "outputs": [],
   "source": [
    "from pyspark.sql import SparkSession, functions as F\n",
    "spark = SparkSession.builder.getOrCreate()\n",
    "df_reviews = spark.read \\\n",
    "                 .option('escape', '\\\"') \\\n",
    "                 .csv('./dataset/olist_order_reviews_dataset.csv', header=True, multiLine=True, inferSchema=True)\n",
    "df_orders = spark.read \\\n",
    "                 .option('escape', '\\\"') \\\n",
    "                 .csv('./dataset/olist_orders_dataset.csv', header=True, multiLine=True, inferSchema=True)\n",
    "df = df_orders.join(df_reviews, df_orders.order_id == df_reviews.order_id)"
   ]
  },
  {
   "cell_type": "code",
   "execution_count": 2,
   "metadata": {},
   "outputs": [
    {
     "name": "stdout",
     "output_type": "stream",
     "text": [
      "root\n",
      " |-- order_id: string (nullable = true)\n",
      " |-- customer_id: string (nullable = true)\n",
      " |-- order_status: string (nullable = true)\n",
      " |-- order_purchase_timestamp: timestamp (nullable = true)\n",
      " |-- order_approved_at: timestamp (nullable = true)\n",
      " |-- order_delivered_carrier_date: timestamp (nullable = true)\n",
      " |-- order_delivered_customer_date: timestamp (nullable = true)\n",
      " |-- order_estimated_delivery_date: timestamp (nullable = true)\n",
      " |-- review_id: string (nullable = true)\n",
      " |-- order_id: string (nullable = true)\n",
      " |-- review_score: integer (nullable = true)\n",
      " |-- review_comment_title: string (nullable = true)\n",
      " |-- review_comment_message: string (nullable = true)\n",
      " |-- review_creation_date: timestamp (nullable = true)\n",
      " |-- review_answer_timestamp: timestamp (nullable = true)\n",
      "\n"
     ]
    }
   ],
   "source": [
    "df.printSchema()"
   ]
  },
  {
   "cell_type": "markdown",
   "metadata": {},
   "source": [
    "### Calculo nota média geral"
   ]
  },
  {
   "cell_type": "code",
   "execution_count": 3,
   "metadata": {},
   "outputs": [
    {
     "name": "stdout",
     "output_type": "stream",
     "text": [
      "+-----------------+\n",
      "|avg(review_score)|\n",
      "+-----------------+\n",
      "|          4.07089|\n",
      "+-----------------+\n",
      "\n"
     ]
    }
   ],
   "source": [
    "df.select(F.mean('review_score')).show()"
   ]
  },
  {
   "cell_type": "markdown",
   "metadata": {},
   "source": [
    "### Calculo nota média dos cancelados"
   ]
  },
  {
   "cell_type": "code",
   "execution_count": 4,
   "metadata": {},
   "outputs": [],
   "source": [
    "df_canceled = df.filter(F.col('order_status')=='canceled')"
   ]
  },
  {
   "cell_type": "code",
   "execution_count": 5,
   "metadata": {},
   "outputs": [
    {
     "name": "stdout",
     "output_type": "stream",
     "text": [
      "+------------------+\n",
      "| avg(review_score)|\n",
      "+------------------+\n",
      "|1.8108108108108107|\n",
      "+------------------+\n",
      "\n"
     ]
    }
   ],
   "source": [
    "df_canceled.select(F.mean('review_score')).show()"
   ]
  },
  {
   "cell_type": "markdown",
   "metadata": {},
   "source": [
    "## Calculo nota média dos atrasados"
   ]
  },
  {
   "cell_type": "code",
   "execution_count": 6,
   "metadata": {},
   "outputs": [],
   "source": [
    "df_late = df.filter(F.col('order_delivered_customer_date') > F.col('order_estimated_delivery_date'))"
   ]
  },
  {
   "cell_type": "code",
   "execution_count": 7,
   "metadata": {},
   "outputs": [
    {
     "name": "stdout",
     "output_type": "stream",
     "text": [
      "+-----------------+\n",
      "|avg(review_score)|\n",
      "+-----------------+\n",
      "|  2.5465293668955|\n",
      "+-----------------+\n",
      "\n"
     ]
    }
   ],
   "source": [
    "df_late.select(F.mean('review_score')).show()"
   ]
  },
  {
   "cell_type": "markdown",
   "metadata": {},
   "source": [
    "### Calculo de pedidos atrasados com nota maior ou igual a 3 (hipótese 5)"
   ]
  },
  {
   "cell_type": "code",
   "execution_count": 8,
   "metadata": {},
   "outputs": [
    {
     "name": "stdout",
     "output_type": "stream",
     "text": [
      "O numero de pedidos atrasados com nota >=3 é de 3572\n"
     ]
    }
   ],
   "source": [
    "print(\"O numero de pedidos atrasados com nota >=3 é de\",df_late.filter(F.col('review_score')>=3).count())"
   ]
  },
  {
   "cell_type": "code",
   "execution_count": 9,
   "metadata": {},
   "outputs": [
    {
     "name": "stdout",
     "output_type": "stream",
     "text": [
      "Porcentagem de pedidos atrasados com nota >= 3: 45.41\n"
     ]
    }
   ],
   "source": [
    "print(\"Porcentagem de pedidos atrasados com nota >= 3:\",\n",
    "      round(df_late.filter(F.col('review_score')>=3).count() / df_late.count() * 100,2))"
   ]
  },
  {
   "cell_type": "markdown",
   "metadata": {},
   "source": [
    "## Testes"
   ]
  },
  {
   "cell_type": "code",
   "execution_count": 10,
   "metadata": {},
   "outputs": [],
   "source": [
    "import pandas as pd\n",
    "import matplotlib.pyplot as plt"
   ]
  },
  {
   "cell_type": "code",
   "execution_count": 11,
   "metadata": {},
   "outputs": [],
   "source": [
    "df_new = df.groupBy(F.month('order_purchase_timestamp').alias('month'),F.year('order_purchase_timestamp').alias('year')).count() \\\n",
    ".orderBy(F.col('year'),F.col('month'))"
   ]
  },
  {
   "cell_type": "code",
   "execution_count": 12,
   "metadata": {},
   "outputs": [],
   "source": [
    "from pyspark.sql import functions as sf\n",
    "df_new = df_new.withColumn('month_year', \n",
    "                    sf.concat(sf.col('month'),sf.lit('/'), sf.col('year')))"
   ]
  },
  {
   "cell_type": "code",
   "execution_count": 13,
   "metadata": {},
   "outputs": [
    {
     "name": "stdout",
     "output_type": "stream",
     "text": [
      "+-----+----+-----+----------+\n",
      "|month|year|count|month_year|\n",
      "+-----+----+-----+----------+\n",
      "|    9|2016|    4|    9/2016|\n",
      "|   10|2016|  327|   10/2016|\n",
      "|   12|2016|    1|   12/2016|\n",
      "|    1|2017|  807|    1/2017|\n",
      "|    2|2017| 1788|    2/2017|\n",
      "|    3|2017| 2697|    3/2017|\n",
      "|    4|2017| 2411|    4/2017|\n",
      "|    5|2017| 3737|    5/2017|\n",
      "|    6|2017| 3277|    6/2017|\n",
      "|    7|2017| 4068|    7/2017|\n",
      "|    8|2017| 4374|    8/2017|\n",
      "|    9|2017| 4312|    9/2017|\n",
      "|   10|2017| 4664|   10/2017|\n",
      "|   11|2017| 7598|   11/2017|\n",
      "|   12|2017| 5701|   12/2017|\n",
      "|    1|2018| 7313|    1/2018|\n",
      "|    2|2018| 6817|    2/2018|\n",
      "|    3|2018| 7250|    3/2018|\n",
      "|    4|2018| 6951|    4/2018|\n",
      "|    5|2018| 6882|    5/2018|\n",
      "+-----+----+-----+----------+\n",
      "only showing top 20 rows\n",
      "\n"
     ]
    }
   ],
   "source": [
    "df_new.show()"
   ]
  },
  {
   "cell_type": "code",
   "execution_count": 14,
   "metadata": {},
   "outputs": [
    {
     "data": {
      "text/plain": [
       "<matplotlib.axes._subplots.AxesSubplot at 0x7feb53e2ead0>"
      ]
     },
     "execution_count": 14,
     "metadata": {},
     "output_type": "execute_result"
    },
    {
     "data": {
      "image/png": "[encoded data removed]",
      "text/plain": [
       "<Figure size 432x288 with 1 Axes>"
      ]
     },
     "metadata": {
      "needs_background": "light"
     },
     "output_type": "display_data"
    }
   ],
   "source": [
    "df_new.toPandas().plot(x ='month_year', y='count', kind = 'line')"
   ]
  },
  {
   "cell_type": "code",
   "execution_count": 15,
   "metadata": {},
   "outputs": [],
   "source": [
    "df_new = df.select(F.month('order_purchase_timestamp').alias('month'),F.year('order_purchase_timestamp').alias('year'),F.col('review_score')) \\\n",
    ".orderBy(F.col('year'),F.col('month'))"
   ]
  },
  {
   "cell_type": "code",
   "execution_count": 16,
   "metadata": {},
   "outputs": [],
   "source": [
    "from pyspark.sql import functions as sf\n",
    "df_new = df_new.withColumn('month_year', \n",
    "                    sf.concat(sf.col('month'),sf.lit('/'), sf.col('year')))"
   ]
  },
  {
   "cell_type": "code",
   "execution_count": 17,
   "metadata": {},
   "outputs": [
    {
     "name": "stdout",
     "output_type": "stream",
     "text": [
      "+-----+----+------------+----------+\n",
      "|month|year|review_score|month_year|\n",
      "+-----+----+------------+----------+\n",
      "|    9|2016|           1|    9/2016|\n",
      "|    9|2016|           1|    9/2016|\n",
      "|    9|2016|           1|    9/2016|\n",
      "|    9|2016|           1|    9/2016|\n",
      "|   10|2016|           4|   10/2016|\n",
      "|   10|2016|           3|   10/2016|\n",
      "|   10|2016|           1|   10/2016|\n",
      "|   10|2016|           1|   10/2016|\n",
      "|   10|2016|           4|   10/2016|\n",
      "|   10|2016|           5|   10/2016|\n",
      "|   10|2016|           5|   10/2016|\n",
      "|   10|2016|           5|   10/2016|\n",
      "|   10|2016|           5|   10/2016|\n",
      "|   10|2016|           5|   10/2016|\n",
      "|   10|2016|           5|   10/2016|\n",
      "|   10|2016|           4|   10/2016|\n",
      "|   10|2016|           4|   10/2016|\n",
      "|   10|2016|           1|   10/2016|\n",
      "|   10|2016|           5|   10/2016|\n",
      "|   10|2016|           5|   10/2016|\n",
      "+-----+----+------------+----------+\n",
      "only showing top 20 rows\n",
      "\n"
     ]
    }
   ],
   "source": [
    "df_new.show()"
   ]
  },
  {
   "cell_type": "code",
   "execution_count": null,
   "metadata": {},
   "outputs": [],
   "source": [
    "import seaborn as sns\n",
    "import pandas as pd\n",
    "sns.set(style=\"whitegrid\")\n",
    "ax = sns.swarmplot(x='month_year', y='review_score', data=df_new.toPandas())"
   ]
  },
  {
   "cell_type": "markdown",
   "metadata": {},
   "source": [
    "## Conclusões"
   ]
  },
  {
   "cell_type": "markdown",
   "metadata": {},
   "source": [
    "### A hipótese 0 é válida, pois a média das notas de todos os pedidos é maior que a média das notas dos pedidos cancelados\n",
    "\n",
    "### A hipótese 1 é válida, pois a média das notas de todos os pedidos é maior que a média das notas dos pedidos cancelados\n",
    "\n",
    "### A hipótese 5 é inválida pois existem pedidos atrasados que possuem nota maior ou igual a 3, são 3572 pedidos com essas características"
   ]
  }
 ],
 "metadata": {
  "kernelspec": {
   "display_name": "Python 3",
   "language": "python",
   "name": "python3"
  },
  "language_info": {
   "codemirror_mode": {
    "name": "ipython",
    "version": 3
   },
   "file_extension": ".py",
   "mimetype": "text/x-python",
   "name": "python",
   "nbconvert_exporter": "python",
   "pygments_lexer": "ipython3",
   "version": "3.7.4"
  }
 },
 "nbformat": 4,
 "nbformat_minor": 4
}
