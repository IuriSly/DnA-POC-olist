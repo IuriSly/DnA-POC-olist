{
 "cells": [
  {
   "cell_type": "markdown",
   "metadata": {},
   "source": [
    "# Verificação das hipóteses relacionadas a taxa de cancelamento"
   ]
  },
  {
   "cell_type": "markdown",
   "metadata": {},
   "source": [
    "## Verificação das hipóteses 13\n",
    "\n",
    "Hipótese 13: A porcentagem de cancelamento dos pedidos varia de acordo com o estado do endereço de entrega"
   ]
  },
  {
   "cell_type": "markdown",
   "metadata": {},
   "source": [
    "### Definição do dataframe"
   ]
  },
  {
   "cell_type": "code",
   "execution_count": 1,
   "metadata": {},
   "outputs": [
    {
     "name": "stdout",
     "output_type": "stream",
     "text": [
      "root\n",
      " |-- customer_state: string (nullable = true)\n",
      " |-- order_delivered_customer_date: timestamp (nullable = true)\n",
      " |-- order_estimated_delivery_date: timestamp (nullable = true)\n",
      "\n"
     ]
    }
   ],
   "source": [
    "from pyspark.sql import SparkSession, functions as F\n",
    "spark = SparkSession.builder.getOrCreate()\n",
    "\n",
    "orders_df = spark.read \\\n",
    "                 .option('escape', '\\\"') \\\n",
    "                 .option('quote', '\\\"') \\\n",
    "                 .csv('./dataset/olist_orders_dataset.csv', header=True, multiLine=True, inferSchema=True)\n",
    "\n",
    "reviews_df = spark.read \\\n",
    "                  .option('escape', '\\\"') \\\n",
    "                  .option('quote', '\\\"') \\\n",
    "                  .csv('./dataset/olist_order_reviews_dataset.csv', header=True, multiLine=True, inferSchema=True)\n",
    "\n",
    "customers_df = spark.read \\\n",
    "                  .option('escape', '\\\"') \\\n",
    "                  .option('quote', '\\\"') \\\n",
    "                  .csv('./dataset/olist_customers_dataset.csv', header=True, multiLine=True, inferSchema=True)\n",
    "\n",
    "df = orders_df.join(reviews_df, orders_df.order_id == reviews_df.order_id) \\\n",
    "                     .join(customers_df, orders_df.customer_id == customers_df.customer_id) \\\n",
    "                     .select('customer_state','order_delivered_customer_date','order_estimated_delivery_date')\n",
    "df = df.filter(F.col('order_delivered_customer_date').isNotNull()).filter(F.col('order_estimated_delivery_date').isNotNull())\n",
    "\n",
    "df.printSchema()"
   ]
  },
  {
   "cell_type": "markdown",
   "metadata": {},
   "source": [
    "### Contagem de pedidos por estados"
   ]
  },
  {
   "cell_type": "code",
   "execution_count": 2,
   "metadata": {},
   "outputs": [
    {
     "name": "stdout",
     "output_type": "stream",
     "text": [
      "+--------------+----------------+\n",
      "|customer_state|all_orders_count|\n",
      "+--------------+----------------+\n",
      "|            SC|            3561|\n",
      "|            RO|             243|\n",
      "|            PI|             477|\n",
      "|            AM|             146|\n",
      "|            RR|              41|\n",
      "|            GO|            1974|\n",
      "|            TO|             274|\n",
      "|            MT|             889|\n",
      "|            SP|           40709|\n",
      "|            PB|             518|\n",
      "|            ES|            2004|\n",
      "|            RS|            5382|\n",
      "|            MS|             712|\n",
      "|            AL|             401|\n",
      "|            MG|           11424|\n",
      "|            PA|             953|\n",
      "|            BA|            3274|\n",
      "|            SE|             335|\n",
      "|            PE|            1606|\n",
      "|            CE|            1282|\n",
      "+--------------+----------------+\n",
      "only showing top 20 rows\n",
      "\n"
     ]
    }
   ],
   "source": [
    "df_all_orders = df.groupBy(F.col('customer_state')).count()\n",
    "df_all_orders = df_all_orders.selectExpr('customer_state','count as all_orders_count')\n",
    "df_all_orders.show()"
   ]
  },
  {
   "cell_type": "markdown",
   "metadata": {},
   "source": [
    "### Contagem de pedidos atrasados por estado"
   ]
  },
  {
   "cell_type": "code",
   "execution_count": 3,
   "metadata": {},
   "outputs": [
    {
     "name": "stdout",
     "output_type": "stream",
     "text": [
      "+--------------+-----------------+\n",
      "|customer_state|late_orders_count|\n",
      "+--------------+-----------------+\n",
      "|            SC|              348|\n",
      "|            RO|                7|\n",
      "|            PI|               76|\n",
      "|            AM|                6|\n",
      "|            RR|                5|\n",
      "|            GO|              162|\n",
      "|            TO|               35|\n",
      "|            MT|               60|\n",
      "|            SP|             2393|\n",
      "|            ES|              245|\n",
      "|            PB|               57|\n",
      "|            RS|              386|\n",
      "|            MS|               82|\n",
      "|            AL|               96|\n",
      "|            MG|              641|\n",
      "|            PA|              117|\n",
      "|            BA|              461|\n",
      "|            SE|               51|\n",
      "|            PE|              172|\n",
      "|            CE|              197|\n",
      "+--------------+-----------------+\n",
      "only showing top 20 rows\n",
      "\n"
     ]
    }
   ],
   "source": [
    "df_late = df.filter(F.col('order_delivered_customer_date') > F.col('order_estimated_delivery_date'))\n",
    "df_late = df_late.groupBy(F.col('customer_state')).count()\n",
    "df_late = df_late.selectExpr('customer_state','count as late_orders_count')\n",
    "df_late.show()"
   ]
  },
  {
   "cell_type": "markdown",
   "metadata": {},
   "source": [
    "### Calculo Porcentagem atrasados"
   ]
  },
  {
   "cell_type": "code",
   "execution_count": 4,
   "metadata": {},
   "outputs": [
    {
     "name": "stdout",
     "output_type": "stream",
     "text": [
      "+--------------+-----------------+----------------+------------------+\n",
      "|customer_state|late_orders_count|all_orders_count|  percent_canceled|\n",
      "+--------------+-----------------+----------------+------------------+\n",
      "|            AL|               96|             401|23.940149625935163|\n",
      "|            MA|              141|             721| 19.55617198335645|\n",
      "|            PI|               76|             477|15.932914046121594|\n",
      "|            CE|              197|            1282|15.366614664586583|\n",
      "|            SE|               51|             335|15.223880597014924|\n",
      "|            BA|              461|            3274|14.080635308491143|\n",
      "|            RJ|             1674|           12423|13.475006037189086|\n",
      "|            TO|               35|             274|12.773722627737227|\n",
      "|            PA|              117|             953|12.277019937040922|\n",
      "|            ES|              245|            2004|12.225548902195609|\n",
      "|            RR|                5|              41|12.195121951219512|\n",
      "|            MS|               82|             712| 11.51685393258427|\n",
      "|            PB|               57|             518|11.003861003861005|\n",
      "|            RN|               51|             476|10.714285714285714|\n",
      "|            PE|              172|            1606|10.709838107098381|\n",
      "|            SC|              348|            3561| 9.772535804549284|\n",
      "|            GO|              162|            1974| 8.206686930091186|\n",
      "|            RS|              386|            5382| 7.172054998141955|\n",
      "|            DF|              149|            2099| 7.098618389709385|\n",
      "|            MT|               60|             889| 6.749156355455568|\n",
      "|            SP|             2393|           40709| 5.878307008278267|\n",
      "|            MG|              641|           11424| 5.610994397759104|\n",
      "|            PR|              248|            4942|5.0182112505058685|\n",
      "|            AP|                3|              67| 4.477611940298507|\n",
      "|            AM|                6|             146|  4.10958904109589|\n",
      "|            AC|                3|              80|              3.75|\n",
      "|            RO|                7|             243| 2.880658436213992|\n",
      "+--------------+-----------------+----------------+------------------+\n",
      "\n"
     ]
    }
   ],
   "source": [
    "df = df_late.join(df_all_orders, df_late.customer_state == df_all_orders.customer_state) \\\n",
    "    .select(df_late.customer_state,'late_orders_count','all_orders_count')\n",
    "\n",
    "df = df.withColumn('percent_canceled', F.col('late_orders_count') / F.col('all_orders_count') *100) \\\n",
    "    .orderBy(F.desc('percent_canceled'))\n",
    "\n",
    "df.show(50)"
   ]
  },
  {
   "cell_type": "markdown",
   "metadata": {},
   "source": [
    "### Exibição do gráfico"
   ]
  },
  {
   "cell_type": "code",
   "execution_count": 5,
   "metadata": {},
   "outputs": [
    {
     "data": {
      "image/png": "[encoded data removed]",
      "text/plain": [
       "<Figure size 1152x432 with 1 Axes>"
      ]
     },
     "metadata": {
      "needs_background": "light"
     },
     "output_type": "display_data"
    }
   ],
   "source": [
    "import seaborn as sns\n",
    "import pandas as pd\n",
    "import matplotlib.pyplot as plt\n",
    "plt.figure(figsize=(16, 6))\n",
    "sns.set(style='whitegrid')\n",
    "sns.set(font_scale=1.5)\n",
    "ax_0 = sns.barplot(x='customer_state', y='percent_canceled', data=df.toPandas(), color='blue', linewidth=2.5)"
   ]
  },
  {
   "cell_type": "markdown",
   "metadata": {},
   "source": [
    "## Conclusões"
   ]
  },
  {
   "cell_type": "markdown",
   "metadata": {},
   "source": [
    "### A hipótese 13 é válida, pois a porcentagem de pedidos cancelados varia de acordo com a região, como por exemplo o estado de Alagoas tem uma taxa de cancelamento maior do que em outros estados"
   ]
  }
 ],
 "metadata": {
  "kernelspec": {
   "display_name": "Python 3",
   "language": "python",
   "name": "python3"
  },
  "language_info": {
   "codemirror_mode": {
    "name": "ipython",
    "version": 3
   },
   "file_extension": ".py",
   "mimetype": "text/x-python",
   "name": "python",
   "nbconvert_exporter": "python",
   "pygments_lexer": "ipython3",
   "version": "3.7.4"
  }
 },
 "nbformat": 4,
 "nbformat_minor": 4
}
