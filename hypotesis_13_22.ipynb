{
 "cells": [
  {
   "cell_type": "markdown",
   "metadata": {},
   "source": [
    "# Verificação das hipóteses relacionadas a taxa de cancelamento"
   ]
  },
  {
   "cell_type": "markdown",
   "metadata": {},
   "source": [
    "## Verificação da hipótese 13 e 22\n",
    "\n",
    "Hipótese 13: A porcentagem de cancelamento dos pedidos varia de acordo com o estado do endereço de entrega \\\n",
    "Hipótese 22: A porcentagem de cancelamento dos pedidos varia de acordo com a forma de pagamento"
   ]
  },
  {
   "cell_type": "code",
   "execution_count": 1,
   "metadata": {},
   "outputs": [],
   "source": [
    "from pyspark.sql import SparkSession, functions as F\n",
    "spark = SparkSession.builder.getOrCreate()\n",
    "\n",
    "orders_df = spark.read \\\n",
    "                 .option('escape', '\\\"') \\\n",
    "                 .option('quote', '\\\"') \\\n",
    "                 .csv('./dataset/olist_orders_dataset.csv', header=True, multiLine=True, inferSchema=True)\n",
    "\n",
    "customers_df = spark.read \\\n",
    "                  .option('escape', '\\\"') \\\n",
    "                  .option('quote', '\\\"') \\\n",
    "                  .csv('./dataset/olist_customers_dataset.csv', header=True, multiLine=True, inferSchema=True)\n",
    "payment_df = spark.read \\\n",
    "                  .option('escape', '\\\"') \\\n",
    "                  .option('quote', '\\\"') \\\n",
    "                  .csv('./dataset/olist_order_payments_dataset.csv', header=True, multiLine=True, inferSchema=True)"
   ]
  },
  {
   "cell_type": "markdown",
   "metadata": {},
   "source": [
    "### Definição do dataframe"
   ]
  },
  {
   "cell_type": "code",
   "execution_count": 2,
   "metadata": {},
   "outputs": [
    {
     "name": "stdout",
     "output_type": "stream",
     "text": [
      "root\n",
      " |-- customer_state: string (nullable = true)\n",
      " |-- order_status: string (nullable = true)\n",
      "\n"
     ]
    }
   ],
   "source": [
    "df = orders_df.join(customers_df, orders_df.customer_id == customers_df.customer_id) \\\n",
    "                     .select('customer_state','order_status')\n",
    "\n",
    "df.printSchema()"
   ]
  },
  {
   "cell_type": "markdown",
   "metadata": {},
   "source": [
    "### Contagem de pedidos por estados"
   ]
  },
  {
   "cell_type": "code",
   "execution_count": 3,
   "metadata": {},
   "outputs": [
    {
     "name": "stdout",
     "output_type": "stream",
     "text": [
      "+--------------+----------------+\n",
      "|customer_state|all_orders_count|\n",
      "+--------------+----------------+\n",
      "|            SC|            3637|\n",
      "|            RO|             253|\n",
      "|            PI|             495|\n",
      "|            AM|             148|\n",
      "|            RR|              46|\n",
      "|            GO|            2020|\n",
      "|            TO|             280|\n",
      "|            MT|             907|\n",
      "|            SP|           41746|\n",
      "|            ES|            2033|\n",
      "|            PB|             536|\n",
      "|            RS|            5466|\n",
      "|            MS|             715|\n",
      "|            AL|             413|\n",
      "|            MG|           11635|\n",
      "|            PA|             975|\n",
      "|            BA|            3380|\n",
      "|            SE|             350|\n",
      "|            PE|            1652|\n",
      "|            CE|            1336|\n",
      "+--------------+----------------+\n",
      "only showing top 20 rows\n",
      "\n"
     ]
    }
   ],
   "source": [
    "df_all_orders = df.groupBy(F.col('customer_state')).count()\n",
    "df_all_orders = df_all_orders.selectExpr('customer_state','count as all_orders_count')\n",
    "df_all_orders.show()"
   ]
  },
  {
   "cell_type": "markdown",
   "metadata": {},
   "source": [
    "### Contagem de pedidos cancelados por estado"
   ]
  },
  {
   "cell_type": "code",
   "execution_count": 4,
   "metadata": {},
   "outputs": [
    {
     "name": "stdout",
     "output_type": "stream",
     "text": [
      "+--------------+---------------------+\n",
      "|customer_state|canceled_orders_count|\n",
      "+--------------+---------------------+\n",
      "|            SC|                   19|\n",
      "|            RO|                    3|\n",
      "|            PI|                    4|\n",
      "|            RR|                    1|\n",
      "|            GO|                   13|\n",
      "|            TO|                    1|\n",
      "|            MT|                    2|\n",
      "|            SP|                  327|\n",
      "|            ES|                    9|\n",
      "|            PB|                    2|\n",
      "|            RS|                   25|\n",
      "|            MS|                    2|\n",
      "|            AL|                    1|\n",
      "|            MG|                   64|\n",
      "|            PA|                    4|\n",
      "|            BA|                   16|\n",
      "|            SE|                    1|\n",
      "|            PE|                    5|\n",
      "|            CE|                    7|\n",
      "|            RJ|                   86|\n",
      "+--------------+---------------------+\n",
      "only showing top 20 rows\n",
      "\n"
     ]
    }
   ],
   "source": [
    "df_canceled = df.filter(F.col('order_status') == 'canceled')\n",
    "df_canceled = df_canceled.groupBy(F.col('customer_state')).count()\n",
    "df_canceled = df_canceled.selectExpr('customer_state','count as canceled_orders_count')\n",
    "df_canceled.show()"
   ]
  },
  {
   "cell_type": "markdown",
   "metadata": {},
   "source": [
    "### Calculo Porcentagem cancelados por estado"
   ]
  },
  {
   "cell_type": "code",
   "execution_count": 5,
   "metadata": {},
   "outputs": [
    {
     "name": "stdout",
     "output_type": "stream",
     "text": [
      "+--------------+---------------------+----------------+-------------------+\n",
      "|customer_state|canceled_orders_count|all_orders_count|   canceled_percent|\n",
      "+--------------+---------------------+----------------+-------------------+\n",
      "|            RR|                    1|              46| 2.1739130434782608|\n",
      "|            RO|                    3|             253|  1.185770750988142|\n",
      "|            PI|                    4|             495| 0.8080808080808081|\n",
      "|            SP|                  327|           41746| 0.7833085804627987|\n",
      "|            RJ|                   86|           12852| 0.6691565515094927|\n",
      "|            GO|                   13|            2020| 0.6435643564356436|\n",
      "|            MG|                   64|           11635| 0.5500644606789857|\n",
      "|            MA|                    4|             747|  0.535475234270415|\n",
      "|            CE|                    7|            1336| 0.5239520958083832|\n",
      "|            SC|                   19|            3637| 0.5224085784987627|\n",
      "|            BA|                   16|            3380| 0.4733727810650888|\n",
      "|            RS|                   25|            5466|0.45737285034760333|\n",
      "|            ES|                    9|            2033| 0.4426955238563699|\n",
      "|            PR|                   22|            5045| 0.4360753221010902|\n",
      "|            PA|                    4|             975|0.41025641025641024|\n",
      "|            PB|                    2|             536| 0.3731343283582089|\n",
      "|            TO|                    1|             280|0.35714285714285715|\n",
      "|            DF|                    7|            2140| 0.3271028037383178|\n",
      "|            PE|                    5|            1652| 0.3026634382566586|\n",
      "|            SE|                    1|             350| 0.2857142857142857|\n",
      "|            MS|                    2|             715|0.27972027972027974|\n",
      "|            AL|                    1|             413|0.24213075060532688|\n",
      "|            MT|                    2|             907| 0.2205071664829107|\n",
      "+--------------+---------------------+----------------+-------------------+\n",
      "\n"
     ]
    }
   ],
   "source": [
    "df = df_canceled.join(df_all_orders, df_canceled.customer_state == df_all_orders.customer_state) \\\n",
    "    .select(df_canceled.customer_state,'canceled_orders_count','all_orders_count')\n",
    "\n",
    "df = df.withColumn('canceled_percent', F.col('canceled_orders_count') / F.col('all_orders_count') *100) \\\n",
    "    .orderBy(F.desc('canceled_percent'))\n",
    "\n",
    "df.show(50)"
   ]
  },
  {
   "cell_type": "markdown",
   "metadata": {},
   "source": [
    "### Exibição do gráfico"
   ]
  },
  {
   "cell_type": "code",
   "execution_count": 6,
   "metadata": {},
   "outputs": [
    {
     "data": {
      "image/png": "[encoded data removed]",
      "text/plain": [
       "<Figure size 1152x432 with 1 Axes>"
      ]
     },
     "metadata": {
      "needs_background": "light"
     },
     "output_type": "display_data"
    }
   ],
   "source": [
    "import seaborn as sns\n",
    "import pandas as pd\n",
    "import matplotlib.pyplot as plt\n",
    "plt.figure(figsize=(16, 6))\n",
    "sns.set(style='whitegrid')\n",
    "sns.set(font_scale=1.5)\n",
    "ax = sns.barplot(x='customer_state', y='canceled_percent', data=df.toPandas(), color='blue', linewidth=2.5)"
   ]
  },
  {
   "cell_type": "markdown",
   "metadata": {},
   "source": [
    "### Definição do dataframe"
   ]
  },
  {
   "cell_type": "code",
   "execution_count": 7,
   "metadata": {},
   "outputs": [
    {
     "name": "stdout",
     "output_type": "stream",
     "text": [
      "root\n",
      " |-- order_status: string (nullable = true)\n",
      " |-- payment_type: string (nullable = true)\n",
      "\n"
     ]
    }
   ],
   "source": [
    "df = orders_df.join(payment_df, 'order_id') \\\n",
    "              .select('order_status','payment_type')\n",
    "df = df.filter(F.col('payment_type')!='not_defined')\n",
    "df.printSchema()"
   ]
  },
  {
   "cell_type": "markdown",
   "metadata": {},
   "source": [
    "### Contagem de pedidos por método de pagamento"
   ]
  },
  {
   "cell_type": "code",
   "execution_count": 8,
   "metadata": {},
   "outputs": [
    {
     "name": "stdout",
     "output_type": "stream",
     "text": [
      "+------------+----------------+\n",
      "|payment_type|all_orders_count|\n",
      "+------------+----------------+\n",
      "|      boleto|           19784|\n",
      "| credit_card|           76795|\n",
      "|     voucher|            5775|\n",
      "|  debit_card|            1529|\n",
      "+------------+----------------+\n",
      "\n"
     ]
    }
   ],
   "source": [
    "df_all_orders = df.groupBy(F.col('payment_type')).count()\n",
    "df_all_orders = df_all_orders.selectExpr('payment_type','count as all_orders_count')\n",
    "df_all_orders.show()"
   ]
  },
  {
   "cell_type": "markdown",
   "metadata": {},
   "source": [
    "### Contagem de pedidos cancelados por método de pagamento"
   ]
  },
  {
   "cell_type": "code",
   "execution_count": 9,
   "metadata": {},
   "outputs": [
    {
     "name": "stdout",
     "output_type": "stream",
     "text": [
      "+------------+---------------------+\n",
      "|payment_type|canceled_orders_count|\n",
      "+------------+---------------------+\n",
      "|      boleto|                   95|\n",
      "| credit_card|                  444|\n",
      "|     voucher|                  115|\n",
      "|  debit_card|                    7|\n",
      "+------------+---------------------+\n",
      "\n"
     ]
    }
   ],
   "source": [
    "df_canceled = df.filter(F.col('order_status') == 'canceled')\n",
    "df_canceled = df_canceled.groupBy(F.col('payment_type')).count()\n",
    "df_canceled = df_canceled.selectExpr('payment_type','count as canceled_orders_count')\n",
    "df_canceled.show()"
   ]
  },
  {
   "cell_type": "markdown",
   "metadata": {},
   "source": [
    "### Calculo Porcentagem cancelados por método de pagamento"
   ]
  },
  {
   "cell_type": "code",
   "execution_count": 12,
   "metadata": {},
   "outputs": [
    {
     "name": "stdout",
     "output_type": "stream",
     "text": [
      "+------------+---------------------+----------------+-------------------+\n",
      "|payment_type|canceled_orders_count|all_orders_count|   canceled_percent|\n",
      "+------------+---------------------+----------------+-------------------+\n",
      "|     voucher|                  115|            5775| 1.9913419913419914|\n",
      "| credit_card|                  444|           76795| 0.5781626407969269|\n",
      "|      boleto|                   95|           19784| 0.4801860088960776|\n",
      "|  debit_card|                    7|            1529|0.45781556572923476|\n",
      "+------------+---------------------+----------------+-------------------+\n",
      "\n"
     ]
    }
   ],
   "source": [
    "df = df_canceled.join(df_all_orders, 'payment_type') \\\n",
    "    .select('payment_type','canceled_orders_count','all_orders_count')\n",
    "\n",
    "df = df.withColumn('canceled_percent', F.col('canceled_orders_count') / F.col('all_orders_count') *100) \\\n",
    "    .orderBy(F.desc('canceled_percent'))\n",
    "\n",
    "df.show()"
   ]
  },
  {
   "cell_type": "markdown",
   "metadata": {},
   "source": [
    "### Exibição do gráfico"
   ]
  },
  {
   "cell_type": "code",
   "execution_count": 18,
   "metadata": {},
   "outputs": [
    {
     "data": {
      "image/png": "[encoded data removed]",
      "text/plain": [
       "<Figure size 432x288 with 1 Axes>"
      ]
     },
     "metadata": {},
     "output_type": "display_data"
    }
   ],
   "source": [
    "import seaborn as sns\n",
    "import pandas as pd\n",
    "import matplotlib.pyplot as plt\n",
    "sns.set(style='whitegrid')\n",
    "sns.set(font_scale=1)\n",
    "ax = sns.barplot(x='payment_type', y='canceled_percent', data=df.toPandas(), color='blue', linewidth=2.5)"
   ]
  },
  {
   "cell_type": "markdown",
   "metadata": {},
   "source": [
    "## Conclusões"
   ]
  },
  {
   "cell_type": "markdown",
   "metadata": {},
   "source": [
    "### A hipótese 13 é válida, pois a porcentagem de pedidos cancelados varia de acordo com a região, como por exemplo o estado de RR tem uma taxa de cancelamento maior do que em outros estados\n",
    "\n",
    "### A hipótese 22 é válida, pois a porcentagem de pedidos cancelados varia de acordo com o método de pagamento"
   ]
  }
 ],
 "metadata": {
  "kernelspec": {
   "display_name": "Python 3",
   "language": "python",
   "name": "python3"
  },
  "language_info": {
   "codemirror_mode": {
    "name": "ipython",
    "version": 3
   },
   "file_extension": ".py",
   "mimetype": "text/x-python",
   "name": "python",
   "nbconvert_exporter": "python",
   "pygments_lexer": "ipython3",
   "version": "3.7.4"
  }
 },
 "nbformat": 4,
 "nbformat_minor": 4
}
