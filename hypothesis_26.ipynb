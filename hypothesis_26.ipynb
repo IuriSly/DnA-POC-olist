{
 "cells": [
  {
   "cell_type": "markdown",
   "metadata": {},
   "source": [
    "# Hypothesis 26\n",
    "\n",
    "### Freight value changes according to the product's weight and/or volume (height * length * width)"
   ]
  },
  {
   "cell_type": "code",
   "execution_count": 1,
   "metadata": {},
   "outputs": [],
   "source": [
    "from pyspark.sql import SparkSession, functions as F, types as T\n",
    "import seaborn as sns\n",
    "import matplotlib.pyplot as plt\n",
    "import math"
   ]
  },
  {
   "cell_type": "code",
   "execution_count": 2,
   "metadata": {},
   "outputs": [],
   "source": [
    "spark = SparkSession.builder.getOrCreate()"
   ]
  },
  {
   "cell_type": "code",
   "execution_count": 3,
   "metadata": {},
   "outputs": [
    {
     "name": "stdout",
     "output_type": "stream",
     "text": [
      "Products Schema\n",
      "root\n",
      " |-- product_id: string (nullable = true)\n",
      " |-- product_category_name: string (nullable = true)\n",
      " |-- product_name_lenght: integer (nullable = true)\n",
      " |-- product_description_lenght: integer (nullable = true)\n",
      " |-- product_photos_qty: integer (nullable = true)\n",
      " |-- product_weight_g: integer (nullable = true)\n",
      " |-- product_length_cm: integer (nullable = true)\n",
      " |-- product_height_cm: integer (nullable = true)\n",
      " |-- product_width_cm: integer (nullable = true)\n",
      "\n",
      "Order Items Schema\n",
      "root\n",
      " |-- order_id: string (nullable = true)\n",
      " |-- order_item_id: integer (nullable = true)\n",
      " |-- product_id: string (nullable = true)\n",
      " |-- seller_id: string (nullable = true)\n",
      " |-- shipping_limit_date: timestamp (nullable = true)\n",
      " |-- price: double (nullable = true)\n",
      " |-- freight_value: double (nullable = true)\n",
      "\n"
     ]
    }
   ],
   "source": [
    "products_df = spark.read \\\n",
    "                .option('quote', '\\\"') \\\n",
    "                .option('escape', '\\\"') \\\n",
    "                .csv('./dataset/olist_products_dataset.csv', header=True, multiLine=True, inferSchema=True)\n",
    "\n",
    "orders_df = spark.read \\\n",
    "                 .option('escape', '\\\"') \\\n",
    "                 .option('quote', '\\\"') \\\n",
    "                 .csv('./dataset/olist_orders_dataset.csv', header=True, multiLine=True, inferSchema=True)\n",
    "\n",
    "\n",
    "order_items_df = spark.read \\\n",
    "                      .option('quote', '\\\"') \\\n",
    "                      .option('escape', '\\\"') \\\n",
    "                      .csv('./dataset/olist_order_items_dataset.csv', header=True, multiLine=True, inferSchema=True)\n",
    "\n",
    "customers_df = spark.read \\\n",
    "                  .option('escape', '\\\"') \\\n",
    "                  .option('quote', '\\\"') \\\n",
    "                  .csv('./dataset/olist_customers_dataset.csv', header=True, multiLine=True, inferSchema=True)\n",
    "\n",
    "sellers_df = spark.read \\\n",
    "                  .option('escape', '\\\"') \\\n",
    "                  .option('quote', '\\\"') \\\n",
    "                  .csv('./dataset/olist_sellers_dataset.csv', header=True, multiLine=True, inferSchema=True)\n",
    "\n",
    "geo_df = spark.read \\\n",
    "                  .option('escape', '\\\"') \\\n",
    "                  .option('quote', '\\\"') \\\n",
    "                  .csv('./dataset/olist_geolocation_dataset.csv', header=True, multiLine=True, inferSchema=True)\n",
    "\n",
    "print('Products Schema')\n",
    "products_df.printSchema()\n",
    "\n",
    "print('Order Items Schema')\n",
    "order_items_df.printSchema()\n",
    "\n",
    "df = order_items_df.join(products_df, 'product_id')"
   ]
  },
  {
   "cell_type": "code",
   "execution_count": 4,
   "metadata": {},
   "outputs": [],
   "source": [
    "volume = F.udf(lambda x, y, z: float(x) * float(y) * float(z), T.DoubleType())"
   ]
  },
  {
   "cell_type": "code",
   "execution_count": 5,
   "metadata": {},
   "outputs": [],
   "source": [
    "aux_df = df.select(F.col('product_id'),\n",
    "                   F.col('freight_value').alias('freight'),\n",
    "                   F.col('product_weight_g').alias('weight'),\n",
    "                   F.col('product_length_cm').alias('length'),\n",
    "                   F.col('product_width_cm').alias('width'),\n",
    "                   F.col('product_height_cm').alias('height'),\n",
    "                   F.col('order_id')) \\\n",
    "            .filter(F.col('height').isNotNull())\n",
    "\n",
    "aux_df = aux_df.withColumn('volume', volume('length', 'width', 'height'))"
   ]
  },
  {
   "cell_type": "code",
   "execution_count": 6,
   "metadata": {
    "scrolled": false
   },
   "outputs": [
    {
     "name": "stdout",
     "output_type": "stream",
     "text": [
      "+--------------------+-------+------+------+-----+------+--------------------+--------+\n",
      "|          product_id|freight|weight|length|width|height|            order_id|  volume|\n",
      "+--------------------+-------+------+------+-----+------+--------------------+--------+\n",
      "|4244733e06e7ecb49...|  13.29|   650|    28|   14|     9|00010242fe8c5a6d1...|  3528.0|\n",
      "|e5f2d52b802189ee6...|  19.93| 30000|    50|   40|    30|00018f77f2f0320c5...| 60000.0|\n",
      "|c777355d18b72b67a...|  17.87|  3050|    33|   33|    13|000229ec398224ef6...| 14157.0|\n",
      "|7634da152a4610f15...|  12.79|   200|    16|   15|    10|00024acbcdf0a6daa...|  2400.0|\n",
      "|ac6c3623068f30de0...|  18.14|  3750|    35|   30|    40|00042b26cf59d7ce6...| 42000.0|\n",
      "|ef92defde845ab845...|  12.69|   450|    24|   15|     8|00048cc3ae777c65d...|  2880.0|\n",
      "|8d4f2bb7e93e6710a...|  11.85|   200|    27|   20|     5|00054e8431b9d7675...|  2700.0|\n",
      "|557d850972a7d6f79...|  70.75| 13805|    35|   45|    75|000576fe39319847c...|118125.0|\n",
      "|310ae3c140ff94b03...|  11.65|  2000|    30|   16|    12|0005a1a1728c9d785...|  5760.0|\n",
      "|4535b0e1091c278df...|   11.4|   850|    29|   21|     3|0005f50442cb953dc...|  1827.0|\n",
      "|d63c1011f49d98b97...|   8.88|   950|    35|   20|    25|00061f2a7bc09da83...| 17500.0|\n",
      "|f177554ea93259a5b...|  12.98|   200|    16|   11|    16|00063b381e2406b52...|  2816.0|\n",
      "|99a4788cb24856965...|  23.32|  1383|    50|   40|    10|0006ec9db01a64e59...| 20000.0|\n",
      "|368c6c730842d7801...|  13.37|  1650|    30|   30|    22|0008288aa423d2a3f...| 19800.0|\n",
      "|368c6c730842d7801...|  13.37|  1650|    30|   30|    22|0008288aa423d2a3f...| 19800.0|\n",
      "|8cab8abac59158715...|  27.65|  1050|    40|   30|    20|0009792311464db53...| 24000.0|\n",
      "|3f27ac8e699df3d30...|  11.34|   200|    16|   12|     5|0009c9a17f916a706...|   960.0|\n",
      "|4fa33915031a8cde0...|   8.77|   468|    23|   19|    18|000aed2e25dbad2f9...|  7866.0|\n",
      "|b50c950aba0dcead2...|  13.71|  1800|    16|   16|    16|000c3e6612759851c...|  4096.0|\n",
      "|5ed9eaf534f6936b5...|  16.11|   600|    20|   21|    20|000e562887b1f2006...|  8400.0|\n",
      "+--------------------+-------+------+------+-----+------+--------------------+--------+\n",
      "only showing top 20 rows\n",
      "\n"
     ]
    }
   ],
   "source": [
    "aux_df.show()"
   ]
  },
  {
   "cell_type": "code",
   "execution_count": 8,
   "metadata": {},
   "outputs": [
    {
     "data": {
      "text/plain": [
       "0.5872700711964617"
      ]
     },
     "execution_count": 8,
     "metadata": {},
     "output_type": "execute_result"
    }
   ],
   "source": [
    "aux_df.stat.corr('freight', 'volume')"
   ]
  },
  {
   "cell_type": "code",
   "execution_count": 9,
   "metadata": {},
   "outputs": [
    {
     "data": {
      "text/plain": [
       "0.6104202350972848"
      ]
     },
     "execution_count": 9,
     "metadata": {},
     "output_type": "execute_result"
    }
   ],
   "source": [
    "aux_df.stat.corr('freight','weight')"
   ]
  },
  {
   "cell_type": "code",
   "execution_count": 10,
   "metadata": {
    "scrolled": true
   },
   "outputs": [
    {
     "name": "stdout",
     "output_type": "stream",
     "text": [
      "+-------+------+--------+\n",
      "|freight|weight|  volume|\n",
      "+-------+------+--------+\n",
      "|  13.29|   650|  3528.0|\n",
      "|  19.93| 30000| 60000.0|\n",
      "|  17.87|  3050| 14157.0|\n",
      "|  12.79|   200|  2400.0|\n",
      "|  18.14|  3750| 42000.0|\n",
      "|  12.69|   450|  2880.0|\n",
      "|  11.85|   200|  2700.0|\n",
      "|  70.75| 13805|118125.0|\n",
      "|  11.65|  2000|  5760.0|\n",
      "|   11.4|   850|  1827.0|\n",
      "+-------+------+--------+\n",
      "\n"
     ]
    }
   ],
   "source": [
    "temp_df = aux_df.limit(10).select('freight', 'weight', 'volume')\n",
    "temp_df.show()"
   ]
  },
  {
   "cell_type": "code",
   "execution_count": 23,
   "metadata": {},
   "outputs": [
    {
     "data": {
      "text/html": [
       "<div>\n",
       "<style scoped>\n",
       "    .dataframe tbody tr th:only-of-type {\n",
       "        vertical-align: middle;\n",
       "    }\n",
       "\n",
       "    .dataframe tbody tr th {\n",
       "        vertical-align: top;\n",
       "    }\n",
       "\n",
       "    .dataframe thead th {\n",
       "        text-align: right;\n",
       "    }\n",
       "</style>\n",
       "<table border=\"1\" class=\"dataframe\">\n",
       "  <thead>\n",
       "    <tr style=\"text-align: right;\">\n",
       "      <th></th>\n",
       "      <th>weight</th>\n",
       "      <th>volume</th>\n",
       "      <th>freight</th>\n",
       "    </tr>\n",
       "  </thead>\n",
       "  <tbody>\n",
       "    <tr>\n",
       "      <th>0</th>\n",
       "      <td>650</td>\n",
       "      <td>3528.0</td>\n",
       "      <td>13.29</td>\n",
       "    </tr>\n",
       "    <tr>\n",
       "      <th>1</th>\n",
       "      <td>30000</td>\n",
       "      <td>60000.0</td>\n",
       "      <td>19.93</td>\n",
       "    </tr>\n",
       "    <tr>\n",
       "      <th>2</th>\n",
       "      <td>3050</td>\n",
       "      <td>14157.0</td>\n",
       "      <td>17.87</td>\n",
       "    </tr>\n",
       "    <tr>\n",
       "      <th>3</th>\n",
       "      <td>200</td>\n",
       "      <td>2400.0</td>\n",
       "      <td>12.79</td>\n",
       "    </tr>\n",
       "    <tr>\n",
       "      <th>4</th>\n",
       "      <td>3750</td>\n",
       "      <td>42000.0</td>\n",
       "      <td>18.14</td>\n",
       "    </tr>\n",
       "  </tbody>\n",
       "</table>\n",
       "</div>"
      ],
      "text/plain": [
       "   weight   volume  freight\n",
       "0     650   3528.0    13.29\n",
       "1   30000  60000.0    19.93\n",
       "2    3050  14157.0    17.87\n",
       "3     200   2400.0    12.79\n",
       "4    3750  42000.0    18.14"
      ]
     },
     "execution_count": 23,
     "metadata": {},
     "output_type": "execute_result"
    }
   ],
   "source": [
    "model_df = aux_df.select('weight','volume', 'freight').toPandas()\n",
    "model_df.head()"
   ]
  },
  {
   "cell_type": "markdown",
   "metadata": {},
   "source": [
    "# Multiple Linear Regression"
   ]
  },
  {
   "cell_type": "code",
   "execution_count": 37,
   "metadata": {},
   "outputs": [],
   "source": [
    "from sklearn.model_selection import train_test_split \n",
    "from sklearn.linear_model import LinearRegression\n",
    "from sklearn import metrics\n",
    "import pandas as pd\n",
    "import numpy as np"
   ]
  },
  {
   "cell_type": "code",
   "execution_count": 30,
   "metadata": {},
   "outputs": [],
   "source": [
    "x = model_df[['weight', 'volume']].values\n",
    "y = model_df['freight'].values"
   ]
  },
  {
   "cell_type": "code",
   "execution_count": 31,
   "metadata": {},
   "outputs": [
    {
     "data": {
      "text/plain": [
       "<matplotlib.axes._subplots.AxesSubplot at 0x7f4dd9ebdfd0>"
      ]
     },
     "execution_count": 31,
     "metadata": {},
     "output_type": "execute_result"
    },
    {
     "data": {
      "image/png": "[encoded data removed]",
      "text/plain": [
       "<Figure size 1080x720 with 1 Axes>"
      ]
     },
     "metadata": {
      "needs_background": "light"
     },
     "output_type": "display_data"
    }
   ],
   "source": [
    "plt.figure(figsize=(15,10))\n",
    "plt.tight_layout()\n",
    "sns.distplot(model_df['freight'])"
   ]
  },
  {
   "cell_type": "code",
   "execution_count": 76,
   "metadata": {},
   "outputs": [],
   "source": [
    "x_train, x_test, y_train, y_test = train_test_split(x, y, test_size=0.3, random_state=0)"
   ]
  },
  {
   "cell_type": "code",
   "execution_count": 77,
   "metadata": {},
   "outputs": [
    {
     "data": {
      "text/plain": [
       "LinearRegression(copy_X=True, fit_intercept=True, n_jobs=None, normalize=False)"
      ]
     },
     "execution_count": 77,
     "metadata": {},
     "output_type": "execute_result"
    }
   ],
   "source": [
    "regressor = LinearRegression()  \n",
    "regressor.fit(x_train, y_train)"
   ]
  },
  {
   "cell_type": "code",
   "execution_count": 78,
   "metadata": {},
   "outputs": [],
   "source": [
    "y_pred = regressor.predict(x_test)"
   ]
  },
  {
   "cell_type": "code",
   "execution_count": 86,
   "metadata": {},
   "outputs": [],
   "source": [
    "df = pd.DataFrame({'Actual': y_test, 'Predicted': y_pred})\n",
    "df_reduced = df.head(15)"
   ]
  },
  {
   "cell_type": "code",
   "execution_count": 87,
   "metadata": {},
   "outputs": [
    {
     "data": {
      "image/png": "[encoded data removed]",
      "text/plain": [
       "<Figure size 1152x576 with 1 Axes>"
      ]
     },
     "metadata": {
      "needs_background": "light"
     },
     "output_type": "display_data"
    }
   ],
   "source": [
    "df_reduced.plot(kind='bar', figsize=(16,8))\n",
    "plt.show()"
   ]
  },
  {
   "cell_type": "code",
   "execution_count": 81,
   "metadata": {},
   "outputs": [
    {
     "name": "stdout",
     "output_type": "stream",
     "text": [
      "Mean Absolute Error: 6.993570584553588\n",
      "Mean Squared Error: 149.27185411292032\n",
      "Root Mean Squared Error: 12.21768611943032\n"
     ]
    }
   ],
   "source": [
    "print('Mean Absolute Error:', metrics.mean_absolute_error(y_test, y_pred))  \n",
    "print('Mean Squared Error:', metrics.mean_squared_error(y_test, y_pred))  \n",
    "print('Root Mean Squared Error:', np.sqrt(metrics.mean_squared_error(y_test, y_pred)))"
   ]
  }
 ],
 "metadata": {
  "kernelspec": {
   "display_name": "Python 3",
   "language": "python",
   "name": "python3"
  },
  "language_info": {
   "codemirror_mode": {
    "name": "ipython",
    "version": 3
   },
   "file_extension": ".py",
   "mimetype": "text/x-python",
   "name": "python",
   "nbconvert_exporter": "python",
   "pygments_lexer": "ipython3",
   "version": "3.7.4"
  }
 },
 "nbformat": 4,
 "nbformat_minor": 4
}
